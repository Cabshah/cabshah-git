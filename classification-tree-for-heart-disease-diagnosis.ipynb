{
 "cells": [
  {
   "cell_type": "code",
   "execution_count": 1,
   "id": "775b2a32",
   "metadata": {
    "_cell_guid": "b1076dfc-b9ad-4769-8c92-a6c4dae69d19",
    "_uuid": "8f2839f25d086af736a60e9eeb907d3b93b6e0e5",
    "execution": {
     "iopub.execute_input": "2023-07-17T17:38:41.293306Z",
     "iopub.status.busy": "2023-07-17T17:38:41.292774Z",
     "iopub.status.idle": "2023-07-17T17:38:41.355473Z",
     "shell.execute_reply": "2023-07-17T17:38:41.354349Z"
    },
    "jupyter": {
     "source_hidden": true
    },
    "papermill": {
     "duration": 0.088375,
     "end_time": "2023-07-17T17:38:41.358566",
     "exception": false,
     "start_time": "2023-07-17T17:38:41.270191",
     "status": "completed"
    },
    "tags": []
   },
   "outputs": [
    {
     "name": "stdout",
     "output_type": "stream",
     "text": [
      "/kaggle/input/heart-disease/heart-disease.names\n",
      "/kaggle/input/heart-disease/switzerland.data\n",
      "/kaggle/input/heart-disease/WARNING\n",
      "/kaggle/input/heart-disease/long-beach-va.data\n",
      "/kaggle/input/heart-disease/processed.va.data\n",
      "/kaggle/input/heart-disease/processed.switzerland.data\n",
      "/kaggle/input/heart-disease/cleve.mod\n",
      "/kaggle/input/heart-disease/new.data\n",
      "/kaggle/input/heart-disease/Index\n",
      "/kaggle/input/heart-disease/bak\n",
      "/kaggle/input/heart-disease/cleveland.data\n",
      "/kaggle/input/heart-disease/ask-detrano\n",
      "/kaggle/input/heart-disease/processed.cleveland.data\n",
      "/kaggle/input/heart-disease/processed.hungarian.data\n",
      "/kaggle/input/heart-disease/hungarian.data\n",
      "/kaggle/input/heart-disease/reprocessed.hungarian.data\n",
      "/kaggle/input/heart-disease/costs/heart-disease.expense\n",
      "/kaggle/input/heart-disease/costs/heart-disease.delay\n",
      "/kaggle/input/heart-disease/costs/heart-disease.README\n",
      "/kaggle/input/heart-disease/costs/Index\n",
      "/kaggle/input/heart-disease/costs/heart-disease.group\n",
      "/kaggle/input/heart-disease/costs/heart-disease.cost\n"
     ]
    }
   ],
   "source": [
    "# This Python 3 environment comes with many helpful analytics libraries installed\n",
    "# It is defined by the kaggle/python Docker image: https://github.com/kaggle/docker-python\n",
    "# For example, here's several helpful packages to load\n",
    "\n",
    "import numpy as np # linear algebra\n",
    "import pandas as pd # data processing, CSV file I/O (e.g. pd.read_csv)\n",
    "\n",
    "# Input data files are available in the read-only \"../input/\" directory\n",
    "# For example, running this (by clicking run or pressing Shift+Enter) will list all files under the input directory\n",
    "\n",
    "import os\n",
    "for dirname, _, filenames in os.walk('/kaggle/input'):\n",
    "    for filename in filenames:\n",
    "        print(os.path.join(dirname, filename))\n",
    "\n",
    "# You can write up to 20GB to the current directory (/kaggle/working/) that gets preserved as output when you create a version using \"Save & Run All\" \n",
    "# You can also write temporary files to /kaggle/temp/, but they won't be saved outside of the current session"
   ]
  },
  {
   "cell_type": "markdown",
   "id": "e2d3a99f",
   "metadata": {
    "papermill": {
     "duration": 0.020121,
     "end_time": "2023-07-17T17:38:41.401172",
     "exception": false,
     "start_time": "2023-07-17T17:38:41.381051",
     "status": "completed"
    },
    "tags": []
   },
   "source": []
  },
  {
   "cell_type": "code",
   "execution_count": 2,
   "id": "127d62d0",
   "metadata": {
    "execution": {
     "iopub.execute_input": "2023-07-17T17:38:41.443934Z",
     "iopub.status.busy": "2023-07-17T17:38:41.443469Z",
     "iopub.status.idle": "2023-07-17T17:38:43.117417Z",
     "shell.execute_reply": "2023-07-17T17:38:43.116155Z"
    },
    "papermill": {
     "duration": 1.699061,
     "end_time": "2023-07-17T17:38:43.120551",
     "exception": false,
     "start_time": "2023-07-17T17:38:41.421490",
     "status": "completed"
    },
    "tags": []
   },
   "outputs": [
    {
     "name": "stderr",
     "output_type": "stream",
     "text": [
      "/opt/conda/lib/python3.10/site-packages/scipy/__init__.py:146: UserWarning: A NumPy version >=1.16.5 and <1.23.0 is required for this version of SciPy (detected version 1.23.5\n",
      "  warnings.warn(f\"A NumPy version >={np_minversion} and <{np_maxversion}\"\n"
     ]
    }
   ],
   "source": [
    "import pandas as pd # to load ,manupilate data and for One Hot encoding\n",
    "import numpy as np # std , mean (calculation)\n",
    "import matplotlib.pyplot as plt # to draw graphs\n",
    "from sklearn.tree import DecisionTreeClassifier #to build a classification tree\n",
    "from sklearn.tree import plot_tree \n",
    "from sklearn.model_selection import train_test_split\n",
    "from sklearn.model_selection import cross_val_score\n",
    "from sklearn.metrics import confusion_matrix,ConfusionMatrixDisplay\n"
   ]
  },
  {
   "cell_type": "code",
   "execution_count": 3,
   "id": "f3a5b5b7",
   "metadata": {
    "execution": {
     "iopub.execute_input": "2023-07-17T17:38:43.165224Z",
     "iopub.status.busy": "2023-07-17T17:38:43.164147Z",
     "iopub.status.idle": "2023-07-17T17:38:43.192011Z",
     "shell.execute_reply": "2023-07-17T17:38:43.191095Z"
    },
    "papermill": {
     "duration": 0.052294,
     "end_time": "2023-07-17T17:38:43.194567",
     "exception": false,
     "start_time": "2023-07-17T17:38:43.142273",
     "status": "completed"
    },
    "tags": []
   },
   "outputs": [],
   "source": [
    "df = pd.read_csv('/kaggle/input/heart-disease/processed.cleveland.data',header = None)"
   ]
  },
  {
   "cell_type": "code",
   "execution_count": 4,
   "id": "dce62f40",
   "metadata": {
    "execution": {
     "iopub.execute_input": "2023-07-17T17:38:43.238705Z",
     "iopub.status.busy": "2023-07-17T17:38:43.238266Z",
     "iopub.status.idle": "2023-07-17T17:38:43.275385Z",
     "shell.execute_reply": "2023-07-17T17:38:43.274151Z"
    },
    "papermill": {
     "duration": 0.062278,
     "end_time": "2023-07-17T17:38:43.277802",
     "exception": false,
     "start_time": "2023-07-17T17:38:43.215524",
     "status": "completed"
    },
    "tags": []
   },
   "outputs": [
    {
     "data": {
      "text/html": [
       "<div>\n",
       "<style scoped>\n",
       "    .dataframe tbody tr th:only-of-type {\n",
       "        vertical-align: middle;\n",
       "    }\n",
       "\n",
       "    .dataframe tbody tr th {\n",
       "        vertical-align: top;\n",
       "    }\n",
       "\n",
       "    .dataframe thead th {\n",
       "        text-align: right;\n",
       "    }\n",
       "</style>\n",
       "<table border=\"1\" class=\"dataframe\">\n",
       "  <thead>\n",
       "    <tr style=\"text-align: right;\">\n",
       "      <th></th>\n",
       "      <th>0</th>\n",
       "      <th>1</th>\n",
       "      <th>2</th>\n",
       "      <th>3</th>\n",
       "      <th>4</th>\n",
       "      <th>5</th>\n",
       "      <th>6</th>\n",
       "      <th>7</th>\n",
       "      <th>8</th>\n",
       "      <th>9</th>\n",
       "      <th>10</th>\n",
       "      <th>11</th>\n",
       "      <th>12</th>\n",
       "      <th>13</th>\n",
       "    </tr>\n",
       "  </thead>\n",
       "  <tbody>\n",
       "    <tr>\n",
       "      <th>0</th>\n",
       "      <td>63.0</td>\n",
       "      <td>1.0</td>\n",
       "      <td>1.0</td>\n",
       "      <td>145.0</td>\n",
       "      <td>233.0</td>\n",
       "      <td>1.0</td>\n",
       "      <td>2.0</td>\n",
       "      <td>150.0</td>\n",
       "      <td>0.0</td>\n",
       "      <td>2.3</td>\n",
       "      <td>3.0</td>\n",
       "      <td>0.0</td>\n",
       "      <td>6.0</td>\n",
       "      <td>0</td>\n",
       "    </tr>\n",
       "    <tr>\n",
       "      <th>1</th>\n",
       "      <td>67.0</td>\n",
       "      <td>1.0</td>\n",
       "      <td>4.0</td>\n",
       "      <td>160.0</td>\n",
       "      <td>286.0</td>\n",
       "      <td>0.0</td>\n",
       "      <td>2.0</td>\n",
       "      <td>108.0</td>\n",
       "      <td>1.0</td>\n",
       "      <td>1.5</td>\n",
       "      <td>2.0</td>\n",
       "      <td>3.0</td>\n",
       "      <td>3.0</td>\n",
       "      <td>2</td>\n",
       "    </tr>\n",
       "    <tr>\n",
       "      <th>2</th>\n",
       "      <td>67.0</td>\n",
       "      <td>1.0</td>\n",
       "      <td>4.0</td>\n",
       "      <td>120.0</td>\n",
       "      <td>229.0</td>\n",
       "      <td>0.0</td>\n",
       "      <td>2.0</td>\n",
       "      <td>129.0</td>\n",
       "      <td>1.0</td>\n",
       "      <td>2.6</td>\n",
       "      <td>2.0</td>\n",
       "      <td>2.0</td>\n",
       "      <td>7.0</td>\n",
       "      <td>1</td>\n",
       "    </tr>\n",
       "    <tr>\n",
       "      <th>3</th>\n",
       "      <td>37.0</td>\n",
       "      <td>1.0</td>\n",
       "      <td>3.0</td>\n",
       "      <td>130.0</td>\n",
       "      <td>250.0</td>\n",
       "      <td>0.0</td>\n",
       "      <td>0.0</td>\n",
       "      <td>187.0</td>\n",
       "      <td>0.0</td>\n",
       "      <td>3.5</td>\n",
       "      <td>3.0</td>\n",
       "      <td>0.0</td>\n",
       "      <td>3.0</td>\n",
       "      <td>0</td>\n",
       "    </tr>\n",
       "    <tr>\n",
       "      <th>4</th>\n",
       "      <td>41.0</td>\n",
       "      <td>0.0</td>\n",
       "      <td>2.0</td>\n",
       "      <td>130.0</td>\n",
       "      <td>204.0</td>\n",
       "      <td>0.0</td>\n",
       "      <td>2.0</td>\n",
       "      <td>172.0</td>\n",
       "      <td>0.0</td>\n",
       "      <td>1.4</td>\n",
       "      <td>1.0</td>\n",
       "      <td>0.0</td>\n",
       "      <td>3.0</td>\n",
       "      <td>0</td>\n",
       "    </tr>\n",
       "  </tbody>\n",
       "</table>\n",
       "</div>"
      ],
      "text/plain": [
       "     0    1    2      3      4    5    6      7    8    9    10   11   12  13\n",
       "0  63.0  1.0  1.0  145.0  233.0  1.0  2.0  150.0  0.0  2.3  3.0  0.0  6.0   0\n",
       "1  67.0  1.0  4.0  160.0  286.0  0.0  2.0  108.0  1.0  1.5  2.0  3.0  3.0   2\n",
       "2  67.0  1.0  4.0  120.0  229.0  0.0  2.0  129.0  1.0  2.6  2.0  2.0  7.0   1\n",
       "3  37.0  1.0  3.0  130.0  250.0  0.0  0.0  187.0  0.0  3.5  3.0  0.0  3.0   0\n",
       "4  41.0  0.0  2.0  130.0  204.0  0.0  2.0  172.0  0.0  1.4  1.0  0.0  3.0   0"
      ]
     },
     "execution_count": 4,
     "metadata": {},
     "output_type": "execute_result"
    }
   ],
   "source": [
    "df.head()"
   ]
  },
  {
   "cell_type": "markdown",
   "id": "bfc86a94",
   "metadata": {
    "papermill": {
     "duration": 0.020485,
     "end_time": "2023-07-17T17:38:43.319422",
     "exception": false,
     "start_time": "2023-07-17T17:38:43.298937",
     "status": "completed"
    },
    "tags": []
   },
   "source": [
    "# Naming columns\n",
    "\n",
    "[Only 14 attributes used:](http://)https://archive.ics.uci.edu/dataset/45/heart+disease\n",
    "      1. #3  (age)       \n",
    "      2. #4  (sex)       \n",
    "      3. #9  (cp)        \n",
    "      4. #10 (trestbps)  \n",
    "      5. #12 (chol)      \n",
    "      6. #16 (fbs)       \n",
    "      7. #19 (restecg)   \n",
    "      8. #32 (thalach)   \n",
    "      9. #38 (exang)     \n",
    "      10. #40 (oldpeak)   \n",
    "      11. #41 (slope)     \n",
    "      12. #44 (ca)        \n",
    "      13. #51 (thal)      \n",
    "      14. #58 (num)       (the predicted attribute)"
   ]
  },
  {
   "cell_type": "code",
   "execution_count": 5,
   "id": "830dfa62",
   "metadata": {
    "execution": {
     "iopub.execute_input": "2023-07-17T17:38:43.363330Z",
     "iopub.status.busy": "2023-07-17T17:38:43.362926Z",
     "iopub.status.idle": "2023-07-17T17:38:43.369574Z",
     "shell.execute_reply": "2023-07-17T17:38:43.368270Z"
    },
    "papermill": {
     "duration": 0.032333,
     "end_time": "2023-07-17T17:38:43.372627",
     "exception": false,
     "start_time": "2023-07-17T17:38:43.340294",
     "status": "completed"
    },
    "tags": []
   },
   "outputs": [],
   "source": [
    "df.columns = ['age','sex','cp','restbp','chol','fbs','restecg','thalach','exang','oldeak','slope','ca','thal','hd']"
   ]
  },
  {
   "cell_type": "code",
   "execution_count": 6,
   "id": "8aa9fa07",
   "metadata": {
    "execution": {
     "iopub.execute_input": "2023-07-17T17:38:43.416181Z",
     "iopub.status.busy": "2023-07-17T17:38:43.415764Z",
     "iopub.status.idle": "2023-07-17T17:38:43.443032Z",
     "shell.execute_reply": "2023-07-17T17:38:43.441698Z"
    },
    "papermill": {
     "duration": 0.052129,
     "end_time": "2023-07-17T17:38:43.445709",
     "exception": false,
     "start_time": "2023-07-17T17:38:43.393580",
     "status": "completed"
    },
    "tags": []
   },
   "outputs": [
    {
     "data": {
      "text/html": [
       "<div>\n",
       "<style scoped>\n",
       "    .dataframe tbody tr th:only-of-type {\n",
       "        vertical-align: middle;\n",
       "    }\n",
       "\n",
       "    .dataframe tbody tr th {\n",
       "        vertical-align: top;\n",
       "    }\n",
       "\n",
       "    .dataframe thead th {\n",
       "        text-align: right;\n",
       "    }\n",
       "</style>\n",
       "<table border=\"1\" class=\"dataframe\">\n",
       "  <thead>\n",
       "    <tr style=\"text-align: right;\">\n",
       "      <th></th>\n",
       "      <th>age</th>\n",
       "      <th>sex</th>\n",
       "      <th>cp</th>\n",
       "      <th>restbp</th>\n",
       "      <th>chol</th>\n",
       "      <th>fbs</th>\n",
       "      <th>restecg</th>\n",
       "      <th>thalach</th>\n",
       "      <th>exang</th>\n",
       "      <th>oldeak</th>\n",
       "      <th>slope</th>\n",
       "      <th>ca</th>\n",
       "      <th>thal</th>\n",
       "      <th>hd</th>\n",
       "    </tr>\n",
       "  </thead>\n",
       "  <tbody>\n",
       "    <tr>\n",
       "      <th>0</th>\n",
       "      <td>63.0</td>\n",
       "      <td>1.0</td>\n",
       "      <td>1.0</td>\n",
       "      <td>145.0</td>\n",
       "      <td>233.0</td>\n",
       "      <td>1.0</td>\n",
       "      <td>2.0</td>\n",
       "      <td>150.0</td>\n",
       "      <td>0.0</td>\n",
       "      <td>2.3</td>\n",
       "      <td>3.0</td>\n",
       "      <td>0.0</td>\n",
       "      <td>6.0</td>\n",
       "      <td>0</td>\n",
       "    </tr>\n",
       "    <tr>\n",
       "      <th>1</th>\n",
       "      <td>67.0</td>\n",
       "      <td>1.0</td>\n",
       "      <td>4.0</td>\n",
       "      <td>160.0</td>\n",
       "      <td>286.0</td>\n",
       "      <td>0.0</td>\n",
       "      <td>2.0</td>\n",
       "      <td>108.0</td>\n",
       "      <td>1.0</td>\n",
       "      <td>1.5</td>\n",
       "      <td>2.0</td>\n",
       "      <td>3.0</td>\n",
       "      <td>3.0</td>\n",
       "      <td>2</td>\n",
       "    </tr>\n",
       "    <tr>\n",
       "      <th>2</th>\n",
       "      <td>67.0</td>\n",
       "      <td>1.0</td>\n",
       "      <td>4.0</td>\n",
       "      <td>120.0</td>\n",
       "      <td>229.0</td>\n",
       "      <td>0.0</td>\n",
       "      <td>2.0</td>\n",
       "      <td>129.0</td>\n",
       "      <td>1.0</td>\n",
       "      <td>2.6</td>\n",
       "      <td>2.0</td>\n",
       "      <td>2.0</td>\n",
       "      <td>7.0</td>\n",
       "      <td>1</td>\n",
       "    </tr>\n",
       "    <tr>\n",
       "      <th>3</th>\n",
       "      <td>37.0</td>\n",
       "      <td>1.0</td>\n",
       "      <td>3.0</td>\n",
       "      <td>130.0</td>\n",
       "      <td>250.0</td>\n",
       "      <td>0.0</td>\n",
       "      <td>0.0</td>\n",
       "      <td>187.0</td>\n",
       "      <td>0.0</td>\n",
       "      <td>3.5</td>\n",
       "      <td>3.0</td>\n",
       "      <td>0.0</td>\n",
       "      <td>3.0</td>\n",
       "      <td>0</td>\n",
       "    </tr>\n",
       "    <tr>\n",
       "      <th>4</th>\n",
       "      <td>41.0</td>\n",
       "      <td>0.0</td>\n",
       "      <td>2.0</td>\n",
       "      <td>130.0</td>\n",
       "      <td>204.0</td>\n",
       "      <td>0.0</td>\n",
       "      <td>2.0</td>\n",
       "      <td>172.0</td>\n",
       "      <td>0.0</td>\n",
       "      <td>1.4</td>\n",
       "      <td>1.0</td>\n",
       "      <td>0.0</td>\n",
       "      <td>3.0</td>\n",
       "      <td>0</td>\n",
       "    </tr>\n",
       "  </tbody>\n",
       "</table>\n",
       "</div>"
      ],
      "text/plain": [
       "    age  sex   cp  restbp   chol  fbs  restecg  thalach  exang  oldeak  slope  \\\n",
       "0  63.0  1.0  1.0   145.0  233.0  1.0      2.0    150.0    0.0     2.3    3.0   \n",
       "1  67.0  1.0  4.0   160.0  286.0  0.0      2.0    108.0    1.0     1.5    2.0   \n",
       "2  67.0  1.0  4.0   120.0  229.0  0.0      2.0    129.0    1.0     2.6    2.0   \n",
       "3  37.0  1.0  3.0   130.0  250.0  0.0      0.0    187.0    0.0     3.5    3.0   \n",
       "4  41.0  0.0  2.0   130.0  204.0  0.0      2.0    172.0    0.0     1.4    1.0   \n",
       "\n",
       "    ca thal  hd  \n",
       "0  0.0  6.0   0  \n",
       "1  3.0  3.0   2  \n",
       "2  2.0  7.0   1  \n",
       "3  0.0  3.0   0  \n",
       "4  0.0  3.0   0  "
      ]
     },
     "execution_count": 6,
     "metadata": {},
     "output_type": "execute_result"
    }
   ],
   "source": [
    "df.head()"
   ]
  },
  {
   "cell_type": "code",
   "execution_count": 7,
   "id": "92ef7d68",
   "metadata": {
    "execution": {
     "iopub.execute_input": "2023-07-17T17:38:43.489960Z",
     "iopub.status.busy": "2023-07-17T17:38:43.489513Z",
     "iopub.status.idle": "2023-07-17T17:38:43.496988Z",
     "shell.execute_reply": "2023-07-17T17:38:43.495688Z"
    },
    "papermill": {
     "duration": 0.032502,
     "end_time": "2023-07-17T17:38:43.499497",
     "exception": false,
     "start_time": "2023-07-17T17:38:43.466995",
     "status": "completed"
    },
    "tags": []
   },
   "outputs": [
    {
     "data": {
      "text/plain": [
       "(303, 14)"
      ]
     },
     "execution_count": 7,
     "metadata": {},
     "output_type": "execute_result"
    }
   ],
   "source": [
    "df.shape"
   ]
  },
  {
   "cell_type": "code",
   "execution_count": 8,
   "id": "d08eedda",
   "metadata": {
    "execution": {
     "iopub.execute_input": "2023-07-17T17:38:43.544048Z",
     "iopub.status.busy": "2023-07-17T17:38:43.543627Z",
     "iopub.status.idle": "2023-07-17T17:38:43.552637Z",
     "shell.execute_reply": "2023-07-17T17:38:43.551499Z"
    },
    "papermill": {
     "duration": 0.033879,
     "end_time": "2023-07-17T17:38:43.554998",
     "exception": false,
     "start_time": "2023-07-17T17:38:43.521119",
     "status": "completed"
    },
    "tags": []
   },
   "outputs": [
    {
     "data": {
      "text/plain": [
       "age        float64\n",
       "sex        float64\n",
       "cp         float64\n",
       "restbp     float64\n",
       "chol       float64\n",
       "fbs        float64\n",
       "restecg    float64\n",
       "thalach    float64\n",
       "exang      float64\n",
       "oldeak     float64\n",
       "slope      float64\n",
       "ca          object\n",
       "thal        object\n",
       "hd           int64\n",
       "dtype: object"
      ]
     },
     "execution_count": 8,
     "metadata": {},
     "output_type": "execute_result"
    }
   ],
   "source": [
    "df.dtypes"
   ]
  },
  {
   "cell_type": "markdown",
   "id": "5ffaf7b9",
   "metadata": {
    "papermill": {
     "duration": 0.020925,
     "end_time": "2023-07-17T17:38:43.597198",
     "exception": false,
     "start_time": "2023-07-17T17:38:43.576273",
     "status": "completed"
    },
    "tags": []
   },
   "source": [
    "**ca** and **thal** are object data types which is somethig questionable as per the documentation (http://)https://archive.ics.uci.edu/dataset/45/heart+disease both are **categorical data** "
   ]
  },
  {
   "cell_type": "markdown",
   "id": "90616668",
   "metadata": {
    "papermill": {
     "duration": 0.020981,
     "end_time": "2023-07-17T17:38:43.639330",
     "exception": false,
     "start_time": "2023-07-17T17:38:43.618349",
     "status": "completed"
    },
    "tags": []
   },
   "source": [
    "# 1. Identifying Missing Data"
   ]
  },
  {
   "cell_type": "code",
   "execution_count": 9,
   "id": "5d1659cf",
   "metadata": {
    "execution": {
     "iopub.execute_input": "2023-07-17T17:38:43.684179Z",
     "iopub.status.busy": "2023-07-17T17:38:43.683441Z",
     "iopub.status.idle": "2023-07-17T17:38:43.694839Z",
     "shell.execute_reply": "2023-07-17T17:38:43.693675Z"
    },
    "papermill": {
     "duration": 0.036573,
     "end_time": "2023-07-17T17:38:43.697363",
     "exception": false,
     "start_time": "2023-07-17T17:38:43.660790",
     "status": "completed"
    },
    "tags": []
   },
   "outputs": [
    {
     "data": {
      "text/plain": [
       "age        0\n",
       "sex        0\n",
       "cp         0\n",
       "restbp     0\n",
       "chol       0\n",
       "fbs        0\n",
       "restecg    0\n",
       "thalach    0\n",
       "exang      0\n",
       "oldeak     0\n",
       "slope      0\n",
       "ca         0\n",
       "thal       0\n",
       "hd         0\n",
       "dtype: int64"
      ]
     },
     "execution_count": 9,
     "metadata": {},
     "output_type": "execute_result"
    }
   ],
   "source": [
    "df.isna().sum()"
   ]
  },
  {
   "cell_type": "markdown",
   "id": "67a20432",
   "metadata": {
    "papermill": {
     "duration": 0.021428,
     "end_time": "2023-07-17T17:38:43.740450",
     "exception": false,
     "start_time": "2023-07-17T17:38:43.719022",
     "status": "completed"
    },
    "tags": []
   },
   "source": [
    "here missing data is not mentioned as **na**"
   ]
  },
  {
   "cell_type": "code",
   "execution_count": 10,
   "id": "20f14391",
   "metadata": {
    "execution": {
     "iopub.execute_input": "2023-07-17T17:38:43.785367Z",
     "iopub.status.busy": "2023-07-17T17:38:43.784972Z",
     "iopub.status.idle": "2023-07-17T17:38:43.794192Z",
     "shell.execute_reply": "2023-07-17T17:38:43.793051Z"
    },
    "papermill": {
     "duration": 0.034462,
     "end_time": "2023-07-17T17:38:43.796442",
     "exception": false,
     "start_time": "2023-07-17T17:38:43.761980",
     "status": "completed"
    },
    "tags": []
   },
   "outputs": [
    {
     "data": {
      "text/plain": [
       "array(['0.0', '3.0', '2.0', '1.0', '?'], dtype=object)"
      ]
     },
     "execution_count": 10,
     "metadata": {},
     "output_type": "execute_result"
    }
   ],
   "source": [
    "df.ca.unique() #Another way of writing df['ca'].unique() "
   ]
  },
  {
   "cell_type": "markdown",
   "id": "a75c6713",
   "metadata": {
    "papermill": {
     "duration": 0.021526,
     "end_time": "2023-07-17T17:38:43.839539",
     "exception": false,
     "start_time": "2023-07-17T17:38:43.818013",
     "status": "completed"
    },
    "tags": []
   },
   "source": [
    "1. **?** is missing data\n",
    "1. unique values are not sorted,use the sort_values() function after calling unique()"
   ]
  },
  {
   "cell_type": "code",
   "execution_count": 11,
   "id": "911352fc",
   "metadata": {
    "execution": {
     "iopub.execute_input": "2023-07-17T17:38:43.884597Z",
     "iopub.status.busy": "2023-07-17T17:38:43.884208Z",
     "iopub.status.idle": "2023-07-17T17:38:43.892515Z",
     "shell.execute_reply": "2023-07-17T17:38:43.891317Z"
    },
    "papermill": {
     "duration": 0.033928,
     "end_time": "2023-07-17T17:38:43.895097",
     "exception": false,
     "start_time": "2023-07-17T17:38:43.861169",
     "status": "completed"
    },
    "tags": []
   },
   "outputs": [
    {
     "data": {
      "text/plain": [
       "array(['6.0', '3.0', '7.0', '?'], dtype=object)"
      ]
     },
     "execution_count": 11,
     "metadata": {},
     "output_type": "execute_result"
    }
   ],
   "source": [
    "df.thal.unique()"
   ]
  },
  {
   "cell_type": "markdown",
   "id": "8e74109f",
   "metadata": {
    "papermill": {
     "duration": 0.0221,
     "end_time": "2023-07-17T17:38:43.939316",
     "exception": false,
     "start_time": "2023-07-17T17:38:43.917216",
     "status": "completed"
    },
    "tags": []
   },
   "source": [
    "# 2. Imputing Missing Data"
   ]
  },
  {
   "cell_type": "code",
   "execution_count": 12,
   "id": "5eef58b1",
   "metadata": {
    "execution": {
     "iopub.execute_input": "2023-07-17T17:38:43.984927Z",
     "iopub.status.busy": "2023-07-17T17:38:43.984504Z",
     "iopub.status.idle": "2023-07-17T17:38:43.997184Z",
     "shell.execute_reply": "2023-07-17T17:38:43.995705Z"
    },
    "papermill": {
     "duration": 0.039195,
     "end_time": "2023-07-17T17:38:44.000340",
     "exception": false,
     "start_time": "2023-07-17T17:38:43.961145",
     "status": "completed"
    },
    "tags": []
   },
   "outputs": [
    {
     "data": {
      "text/plain": [
       "6"
      ]
     },
     "execution_count": 12,
     "metadata": {},
     "output_type": "execute_result"
    }
   ],
   "source": [
    "len(df.loc[(df.ca == '?') | (df.thal == '?')]) # total ?"
   ]
  },
  {
   "cell_type": "code",
   "execution_count": 13,
   "id": "0e4ea769",
   "metadata": {
    "execution": {
     "iopub.execute_input": "2023-07-17T17:38:44.047593Z",
     "iopub.status.busy": "2023-07-17T17:38:44.047148Z",
     "iopub.status.idle": "2023-07-17T17:38:44.075932Z",
     "shell.execute_reply": "2023-07-17T17:38:44.074732Z"
    },
    "papermill": {
     "duration": 0.055996,
     "end_time": "2023-07-17T17:38:44.078820",
     "exception": false,
     "start_time": "2023-07-17T17:38:44.022824",
     "status": "completed"
    },
    "tags": []
   },
   "outputs": [
    {
     "data": {
      "text/html": [
       "<div>\n",
       "<style scoped>\n",
       "    .dataframe tbody tr th:only-of-type {\n",
       "        vertical-align: middle;\n",
       "    }\n",
       "\n",
       "    .dataframe tbody tr th {\n",
       "        vertical-align: top;\n",
       "    }\n",
       "\n",
       "    .dataframe thead th {\n",
       "        text-align: right;\n",
       "    }\n",
       "</style>\n",
       "<table border=\"1\" class=\"dataframe\">\n",
       "  <thead>\n",
       "    <tr style=\"text-align: right;\">\n",
       "      <th></th>\n",
       "      <th>age</th>\n",
       "      <th>sex</th>\n",
       "      <th>cp</th>\n",
       "      <th>restbp</th>\n",
       "      <th>chol</th>\n",
       "      <th>fbs</th>\n",
       "      <th>restecg</th>\n",
       "      <th>thalach</th>\n",
       "      <th>exang</th>\n",
       "      <th>oldeak</th>\n",
       "      <th>slope</th>\n",
       "      <th>ca</th>\n",
       "      <th>thal</th>\n",
       "      <th>hd</th>\n",
       "    </tr>\n",
       "  </thead>\n",
       "  <tbody>\n",
       "    <tr>\n",
       "      <th>87</th>\n",
       "      <td>53.0</td>\n",
       "      <td>0.0</td>\n",
       "      <td>3.0</td>\n",
       "      <td>128.0</td>\n",
       "      <td>216.0</td>\n",
       "      <td>0.0</td>\n",
       "      <td>2.0</td>\n",
       "      <td>115.0</td>\n",
       "      <td>0.0</td>\n",
       "      <td>0.0</td>\n",
       "      <td>1.0</td>\n",
       "      <td>0.0</td>\n",
       "      <td>?</td>\n",
       "      <td>0</td>\n",
       "    </tr>\n",
       "    <tr>\n",
       "      <th>166</th>\n",
       "      <td>52.0</td>\n",
       "      <td>1.0</td>\n",
       "      <td>3.0</td>\n",
       "      <td>138.0</td>\n",
       "      <td>223.0</td>\n",
       "      <td>0.0</td>\n",
       "      <td>0.0</td>\n",
       "      <td>169.0</td>\n",
       "      <td>0.0</td>\n",
       "      <td>0.0</td>\n",
       "      <td>1.0</td>\n",
       "      <td>?</td>\n",
       "      <td>3.0</td>\n",
       "      <td>0</td>\n",
       "    </tr>\n",
       "    <tr>\n",
       "      <th>192</th>\n",
       "      <td>43.0</td>\n",
       "      <td>1.0</td>\n",
       "      <td>4.0</td>\n",
       "      <td>132.0</td>\n",
       "      <td>247.0</td>\n",
       "      <td>1.0</td>\n",
       "      <td>2.0</td>\n",
       "      <td>143.0</td>\n",
       "      <td>1.0</td>\n",
       "      <td>0.1</td>\n",
       "      <td>2.0</td>\n",
       "      <td>?</td>\n",
       "      <td>7.0</td>\n",
       "      <td>1</td>\n",
       "    </tr>\n",
       "    <tr>\n",
       "      <th>266</th>\n",
       "      <td>52.0</td>\n",
       "      <td>1.0</td>\n",
       "      <td>4.0</td>\n",
       "      <td>128.0</td>\n",
       "      <td>204.0</td>\n",
       "      <td>1.0</td>\n",
       "      <td>0.0</td>\n",
       "      <td>156.0</td>\n",
       "      <td>1.0</td>\n",
       "      <td>1.0</td>\n",
       "      <td>2.0</td>\n",
       "      <td>0.0</td>\n",
       "      <td>?</td>\n",
       "      <td>2</td>\n",
       "    </tr>\n",
       "    <tr>\n",
       "      <th>287</th>\n",
       "      <td>58.0</td>\n",
       "      <td>1.0</td>\n",
       "      <td>2.0</td>\n",
       "      <td>125.0</td>\n",
       "      <td>220.0</td>\n",
       "      <td>0.0</td>\n",
       "      <td>0.0</td>\n",
       "      <td>144.0</td>\n",
       "      <td>0.0</td>\n",
       "      <td>0.4</td>\n",
       "      <td>2.0</td>\n",
       "      <td>?</td>\n",
       "      <td>7.0</td>\n",
       "      <td>0</td>\n",
       "    </tr>\n",
       "    <tr>\n",
       "      <th>302</th>\n",
       "      <td>38.0</td>\n",
       "      <td>1.0</td>\n",
       "      <td>3.0</td>\n",
       "      <td>138.0</td>\n",
       "      <td>175.0</td>\n",
       "      <td>0.0</td>\n",
       "      <td>0.0</td>\n",
       "      <td>173.0</td>\n",
       "      <td>0.0</td>\n",
       "      <td>0.0</td>\n",
       "      <td>1.0</td>\n",
       "      <td>?</td>\n",
       "      <td>3.0</td>\n",
       "      <td>0</td>\n",
       "    </tr>\n",
       "  </tbody>\n",
       "</table>\n",
       "</div>"
      ],
      "text/plain": [
       "      age  sex   cp  restbp   chol  fbs  restecg  thalach  exang  oldeak  \\\n",
       "87   53.0  0.0  3.0   128.0  216.0  0.0      2.0    115.0    0.0     0.0   \n",
       "166  52.0  1.0  3.0   138.0  223.0  0.0      0.0    169.0    0.0     0.0   \n",
       "192  43.0  1.0  4.0   132.0  247.0  1.0      2.0    143.0    1.0     0.1   \n",
       "266  52.0  1.0  4.0   128.0  204.0  1.0      0.0    156.0    1.0     1.0   \n",
       "287  58.0  1.0  2.0   125.0  220.0  0.0      0.0    144.0    0.0     0.4   \n",
       "302  38.0  1.0  3.0   138.0  175.0  0.0      0.0    173.0    0.0     0.0   \n",
       "\n",
       "     slope   ca thal  hd  \n",
       "87     1.0  0.0    ?   0  \n",
       "166    1.0    ?  3.0   0  \n",
       "192    2.0    ?  7.0   1  \n",
       "266    2.0  0.0    ?   2  \n",
       "287    2.0    ?  7.0   0  \n",
       "302    1.0    ?  3.0   0  "
      ]
     },
     "execution_count": 13,
     "metadata": {},
     "output_type": "execute_result"
    }
   ],
   "source": [
    "df.loc[(df.ca == '?') | (df.thal == '?')]"
   ]
  },
  {
   "cell_type": "markdown",
   "id": "68148ad8",
   "metadata": {
    "papermill": {
     "duration": 0.022582,
     "end_time": "2023-07-17T17:38:44.124153",
     "exception": false,
     "start_time": "2023-07-17T17:38:44.101571",
     "status": "completed"
    },
    "tags": []
   },
   "source": [
    "So 6 out 303 rows 0r 2% contains missing data. So we can drop"
   ]
  },
  {
   "cell_type": "code",
   "execution_count": 14,
   "id": "5e917874",
   "metadata": {
    "execution": {
     "iopub.execute_input": "2023-07-17T17:38:44.174268Z",
     "iopub.status.busy": "2023-07-17T17:38:44.173855Z",
     "iopub.status.idle": "2023-07-17T17:38:44.180802Z",
     "shell.execute_reply": "2023-07-17T17:38:44.179668Z"
    },
    "papermill": {
     "duration": 0.034051,
     "end_time": "2023-07-17T17:38:44.183164",
     "exception": false,
     "start_time": "2023-07-17T17:38:44.149113",
     "status": "completed"
    },
    "tags": []
   },
   "outputs": [],
   "source": [
    "df_no_missing = df.loc[~((df.ca == '?') | (df.thal == '?'))] #negatiing missing values"
   ]
  },
  {
   "cell_type": "code",
   "execution_count": 15,
   "id": "4eaa85a1",
   "metadata": {
    "execution": {
     "iopub.execute_input": "2023-07-17T17:38:44.230901Z",
     "iopub.status.busy": "2023-07-17T17:38:44.230480Z",
     "iopub.status.idle": "2023-07-17T17:38:44.236679Z",
     "shell.execute_reply": "2023-07-17T17:38:44.235868Z"
    },
    "papermill": {
     "duration": 0.032862,
     "end_time": "2023-07-17T17:38:44.238832",
     "exception": false,
     "start_time": "2023-07-17T17:38:44.205970",
     "status": "completed"
    },
    "tags": []
   },
   "outputs": [
    {
     "data": {
      "text/plain": [
       "297"
      ]
     },
     "execution_count": 15,
     "metadata": {},
     "output_type": "execute_result"
    }
   ],
   "source": [
    "len(df_no_missing)"
   ]
  },
  {
   "cell_type": "code",
   "execution_count": 16,
   "id": "ca984000",
   "metadata": {
    "execution": {
     "iopub.execute_input": "2023-07-17T17:38:44.285771Z",
     "iopub.status.busy": "2023-07-17T17:38:44.285308Z",
     "iopub.status.idle": "2023-07-17T17:38:44.293447Z",
     "shell.execute_reply": "2023-07-17T17:38:44.292166Z"
    },
    "papermill": {
     "duration": 0.03456,
     "end_time": "2023-07-17T17:38:44.295909",
     "exception": false,
     "start_time": "2023-07-17T17:38:44.261349",
     "status": "completed"
    },
    "tags": []
   },
   "outputs": [
    {
     "data": {
      "text/plain": [
       "array(['0.0', '3.0', '2.0', '1.0'], dtype=object)"
      ]
     },
     "execution_count": 16,
     "metadata": {},
     "output_type": "execute_result"
    }
   ],
   "source": [
    "df_no_missing.ca.unique()"
   ]
  },
  {
   "cell_type": "code",
   "execution_count": 17,
   "id": "58b3bf5b",
   "metadata": {
    "execution": {
     "iopub.execute_input": "2023-07-17T17:38:44.344713Z",
     "iopub.status.busy": "2023-07-17T17:38:44.344271Z",
     "iopub.status.idle": "2023-07-17T17:38:44.351806Z",
     "shell.execute_reply": "2023-07-17T17:38:44.350381Z"
    },
    "papermill": {
     "duration": 0.034261,
     "end_time": "2023-07-17T17:38:44.354155",
     "exception": false,
     "start_time": "2023-07-17T17:38:44.319894",
     "status": "completed"
    },
    "tags": []
   },
   "outputs": [
    {
     "data": {
      "text/plain": [
       "array(['6.0', '3.0', '7.0'], dtype=object)"
      ]
     },
     "execution_count": 17,
     "metadata": {},
     "output_type": "execute_result"
    }
   ],
   "source": [
    "df_no_missing.thal.unique()"
   ]
  },
  {
   "cell_type": "markdown",
   "id": "79ad6ae2",
   "metadata": {
    "papermill": {
     "duration": 0.023394,
     "end_time": "2023-07-17T17:38:44.400853",
     "exception": false,
     "start_time": "2023-07-17T17:38:44.377459",
     "status": "completed"
    },
    "tags": []
   },
   "source": [
    "# Splitting data into Independent and dependent Variables"
   ]
  },
  {
   "cell_type": "code",
   "execution_count": 18,
   "id": "74deac83",
   "metadata": {
    "execution": {
     "iopub.execute_input": "2023-07-17T17:38:44.448426Z",
     "iopub.status.busy": "2023-07-17T17:38:44.447972Z",
     "iopub.status.idle": "2023-07-17T17:38:44.475203Z",
     "shell.execute_reply": "2023-07-17T17:38:44.473907Z"
    },
    "papermill": {
     "duration": 0.05384,
     "end_time": "2023-07-17T17:38:44.477535",
     "exception": false,
     "start_time": "2023-07-17T17:38:44.423695",
     "status": "completed"
    },
    "tags": []
   },
   "outputs": [
    {
     "data": {
      "text/html": [
       "<div>\n",
       "<style scoped>\n",
       "    .dataframe tbody tr th:only-of-type {\n",
       "        vertical-align: middle;\n",
       "    }\n",
       "\n",
       "    .dataframe tbody tr th {\n",
       "        vertical-align: top;\n",
       "    }\n",
       "\n",
       "    .dataframe thead th {\n",
       "        text-align: right;\n",
       "    }\n",
       "</style>\n",
       "<table border=\"1\" class=\"dataframe\">\n",
       "  <thead>\n",
       "    <tr style=\"text-align: right;\">\n",
       "      <th></th>\n",
       "      <th>age</th>\n",
       "      <th>sex</th>\n",
       "      <th>cp</th>\n",
       "      <th>restbp</th>\n",
       "      <th>chol</th>\n",
       "      <th>fbs</th>\n",
       "      <th>restecg</th>\n",
       "      <th>thalach</th>\n",
       "      <th>exang</th>\n",
       "      <th>oldeak</th>\n",
       "      <th>slope</th>\n",
       "      <th>ca</th>\n",
       "      <th>thal</th>\n",
       "    </tr>\n",
       "  </thead>\n",
       "  <tbody>\n",
       "    <tr>\n",
       "      <th>0</th>\n",
       "      <td>63.0</td>\n",
       "      <td>1.0</td>\n",
       "      <td>1.0</td>\n",
       "      <td>145.0</td>\n",
       "      <td>233.0</td>\n",
       "      <td>1.0</td>\n",
       "      <td>2.0</td>\n",
       "      <td>150.0</td>\n",
       "      <td>0.0</td>\n",
       "      <td>2.3</td>\n",
       "      <td>3.0</td>\n",
       "      <td>0.0</td>\n",
       "      <td>6.0</td>\n",
       "    </tr>\n",
       "    <tr>\n",
       "      <th>1</th>\n",
       "      <td>67.0</td>\n",
       "      <td>1.0</td>\n",
       "      <td>4.0</td>\n",
       "      <td>160.0</td>\n",
       "      <td>286.0</td>\n",
       "      <td>0.0</td>\n",
       "      <td>2.0</td>\n",
       "      <td>108.0</td>\n",
       "      <td>1.0</td>\n",
       "      <td>1.5</td>\n",
       "      <td>2.0</td>\n",
       "      <td>3.0</td>\n",
       "      <td>3.0</td>\n",
       "    </tr>\n",
       "    <tr>\n",
       "      <th>2</th>\n",
       "      <td>67.0</td>\n",
       "      <td>1.0</td>\n",
       "      <td>4.0</td>\n",
       "      <td>120.0</td>\n",
       "      <td>229.0</td>\n",
       "      <td>0.0</td>\n",
       "      <td>2.0</td>\n",
       "      <td>129.0</td>\n",
       "      <td>1.0</td>\n",
       "      <td>2.6</td>\n",
       "      <td>2.0</td>\n",
       "      <td>2.0</td>\n",
       "      <td>7.0</td>\n",
       "    </tr>\n",
       "    <tr>\n",
       "      <th>3</th>\n",
       "      <td>37.0</td>\n",
       "      <td>1.0</td>\n",
       "      <td>3.0</td>\n",
       "      <td>130.0</td>\n",
       "      <td>250.0</td>\n",
       "      <td>0.0</td>\n",
       "      <td>0.0</td>\n",
       "      <td>187.0</td>\n",
       "      <td>0.0</td>\n",
       "      <td>3.5</td>\n",
       "      <td>3.0</td>\n",
       "      <td>0.0</td>\n",
       "      <td>3.0</td>\n",
       "    </tr>\n",
       "    <tr>\n",
       "      <th>4</th>\n",
       "      <td>41.0</td>\n",
       "      <td>0.0</td>\n",
       "      <td>2.0</td>\n",
       "      <td>130.0</td>\n",
       "      <td>204.0</td>\n",
       "      <td>0.0</td>\n",
       "      <td>2.0</td>\n",
       "      <td>172.0</td>\n",
       "      <td>0.0</td>\n",
       "      <td>1.4</td>\n",
       "      <td>1.0</td>\n",
       "      <td>0.0</td>\n",
       "      <td>3.0</td>\n",
       "    </tr>\n",
       "  </tbody>\n",
       "</table>\n",
       "</div>"
      ],
      "text/plain": [
       "    age  sex   cp  restbp   chol  fbs  restecg  thalach  exang  oldeak  slope  \\\n",
       "0  63.0  1.0  1.0   145.0  233.0  1.0      2.0    150.0    0.0     2.3    3.0   \n",
       "1  67.0  1.0  4.0   160.0  286.0  0.0      2.0    108.0    1.0     1.5    2.0   \n",
       "2  67.0  1.0  4.0   120.0  229.0  0.0      2.0    129.0    1.0     2.6    2.0   \n",
       "3  37.0  1.0  3.0   130.0  250.0  0.0      0.0    187.0    0.0     3.5    3.0   \n",
       "4  41.0  0.0  2.0   130.0  204.0  0.0      2.0    172.0    0.0     1.4    1.0   \n",
       "\n",
       "    ca thal  \n",
       "0  0.0  6.0  \n",
       "1  3.0  3.0  \n",
       "2  2.0  7.0  \n",
       "3  0.0  3.0  \n",
       "4  0.0  3.0  "
      ]
     },
     "execution_count": 18,
     "metadata": {},
     "output_type": "execute_result"
    }
   ],
   "source": [
    "X= df_no_missing.drop('hd', axis=1).copy() # df_no_missing.iloc[::-1]\n",
    "X.head()"
   ]
  },
  {
   "cell_type": "code",
   "execution_count": 19,
   "id": "1eab0db6",
   "metadata": {
    "execution": {
     "iopub.execute_input": "2023-07-17T17:38:44.526148Z",
     "iopub.status.busy": "2023-07-17T17:38:44.525722Z",
     "iopub.status.idle": "2023-07-17T17:38:44.534473Z",
     "shell.execute_reply": "2023-07-17T17:38:44.533294Z"
    },
    "papermill": {
     "duration": 0.036056,
     "end_time": "2023-07-17T17:38:44.536980",
     "exception": false,
     "start_time": "2023-07-17T17:38:44.500924",
     "status": "completed"
    },
    "tags": []
   },
   "outputs": [
    {
     "data": {
      "text/plain": [
       "0    0\n",
       "1    2\n",
       "2    1\n",
       "3    0\n",
       "4    0\n",
       "Name: hd, dtype: int64"
      ]
     },
     "execution_count": 19,
     "metadata": {},
     "output_type": "execute_result"
    }
   ],
   "source": [
    "y = df_no_missing.hd.copy()\n",
    "y.head()"
   ]
  },
  {
   "cell_type": "markdown",
   "id": "14402942",
   "metadata": {
    "papermill": {
     "duration": 0.023505,
     "end_time": "2023-07-17T17:38:44.583933",
     "exception": false,
     "start_time": "2023-07-17T17:38:44.560428",
     "status": "completed"
    },
    "tags": []
   },
   "source": [
    "# One Hot Encoding"
   ]
  },
  {
   "cell_type": "markdown",
   "id": "71786f19",
   "metadata": {
    "papermill": {
     "duration": 0.023242,
     "end_time": "2023-07-17T17:38:44.630950",
     "exception": false,
     "start_time": "2023-07-17T17:38:44.607708",
     "status": "completed"
    },
    "tags": []
   },
   "source": [
    "age:float\n",
    "Sex:Category\n",
    "cp(chest pain) :category\n",
    "restbp : Float\n",
    "chol :Float\n",
    "fbs : Category\n",
    "thalach :Float\n",
    "exang: Caterory\n",
    "oldspeak : Float\n",
    "slope : Category\n",
    "ca : Float\n",
    "thal : category\n"
   ]
  },
  {
   "cell_type": "code",
   "execution_count": 20,
   "id": "928e5b21",
   "metadata": {
    "execution": {
     "iopub.execute_input": "2023-07-17T17:38:44.679445Z",
     "iopub.status.busy": "2023-07-17T17:38:44.679006Z",
     "iopub.status.idle": "2023-07-17T17:38:44.689362Z",
     "shell.execute_reply": "2023-07-17T17:38:44.688110Z"
    },
    "papermill": {
     "duration": 0.03777,
     "end_time": "2023-07-17T17:38:44.691955",
     "exception": false,
     "start_time": "2023-07-17T17:38:44.654185",
     "status": "completed"
    },
    "tags": []
   },
   "outputs": [
    {
     "data": {
      "text/plain": [
       "array([1., 4., 3., 2.])"
      ]
     },
     "execution_count": 20,
     "metadata": {},
     "output_type": "execute_result"
    }
   ],
   "source": [
    "X.cp.unique()"
   ]
  },
  {
   "cell_type": "code",
   "execution_count": 21,
   "id": "f002d333",
   "metadata": {
    "execution": {
     "iopub.execute_input": "2023-07-17T17:38:44.741436Z",
     "iopub.status.busy": "2023-07-17T17:38:44.741021Z",
     "iopub.status.idle": "2023-07-17T17:38:44.748721Z",
     "shell.execute_reply": "2023-07-17T17:38:44.747506Z"
    },
    "papermill": {
     "duration": 0.035389,
     "end_time": "2023-07-17T17:38:44.751223",
     "exception": false,
     "start_time": "2023-07-17T17:38:44.715834",
     "status": "completed"
    },
    "tags": []
   },
   "outputs": [
    {
     "data": {
      "text/plain": [
       "Index(['age', 'sex', 'cp', 'restbp', 'chol', 'fbs', 'restecg', 'thalach',\n",
       "       'exang', 'oldeak', 'slope', 'ca', 'thal', 'hd'],\n",
       "      dtype='object')"
      ]
     },
     "execution_count": 21,
     "metadata": {},
     "output_type": "execute_result"
    }
   ],
   "source": [
    "df_no_missing.columns"
   ]
  },
  {
   "cell_type": "code",
   "execution_count": 22,
   "id": "345d7d35",
   "metadata": {
    "execution": {
     "iopub.execute_input": "2023-07-17T17:38:44.801947Z",
     "iopub.status.busy": "2023-07-17T17:38:44.801498Z",
     "iopub.status.idle": "2023-07-17T17:38:44.807808Z",
     "shell.execute_reply": "2023-07-17T17:38:44.806417Z"
    },
    "papermill": {
     "duration": 0.035007,
     "end_time": "2023-07-17T17:38:44.810184",
     "exception": false,
     "start_time": "2023-07-17T17:38:44.775177",
     "status": "completed"
    },
    "tags": []
   },
   "outputs": [],
   "source": [
    "pd.set_option(\"display.max_columns\", 200)"
   ]
  },
  {
   "cell_type": "code",
   "execution_count": 23,
   "id": "f1f1dec7",
   "metadata": {
    "execution": {
     "iopub.execute_input": "2023-07-17T17:38:44.860274Z",
     "iopub.status.busy": "2023-07-17T17:38:44.859841Z",
     "iopub.status.idle": "2023-07-17T17:38:44.892399Z",
     "shell.execute_reply": "2023-07-17T17:38:44.891261Z"
    },
    "papermill": {
     "duration": 0.061101,
     "end_time": "2023-07-17T17:38:44.894985",
     "exception": false,
     "start_time": "2023-07-17T17:38:44.833884",
     "status": "completed"
    },
    "tags": []
   },
   "outputs": [
    {
     "data": {
      "text/html": [
       "<div>\n",
       "<style scoped>\n",
       "    .dataframe tbody tr th:only-of-type {\n",
       "        vertical-align: middle;\n",
       "    }\n",
       "\n",
       "    .dataframe tbody tr th {\n",
       "        vertical-align: top;\n",
       "    }\n",
       "\n",
       "    .dataframe thead th {\n",
       "        text-align: right;\n",
       "    }\n",
       "</style>\n",
       "<table border=\"1\" class=\"dataframe\">\n",
       "  <thead>\n",
       "    <tr style=\"text-align: right;\">\n",
       "      <th></th>\n",
       "      <th>age</th>\n",
       "      <th>sex</th>\n",
       "      <th>restbp</th>\n",
       "      <th>chol</th>\n",
       "      <th>fbs</th>\n",
       "      <th>thalach</th>\n",
       "      <th>exang</th>\n",
       "      <th>oldeak</th>\n",
       "      <th>ca</th>\n",
       "      <th>cp_1.0</th>\n",
       "      <th>cp_2.0</th>\n",
       "      <th>cp_3.0</th>\n",
       "      <th>cp_4.0</th>\n",
       "      <th>restecg_0.0</th>\n",
       "      <th>restecg_1.0</th>\n",
       "      <th>restecg_2.0</th>\n",
       "      <th>slope_1.0</th>\n",
       "      <th>slope_2.0</th>\n",
       "      <th>slope_3.0</th>\n",
       "      <th>thal_3.0</th>\n",
       "      <th>thal_6.0</th>\n",
       "      <th>thal_7.0</th>\n",
       "    </tr>\n",
       "  </thead>\n",
       "  <tbody>\n",
       "    <tr>\n",
       "      <th>0</th>\n",
       "      <td>63.0</td>\n",
       "      <td>1.0</td>\n",
       "      <td>145.0</td>\n",
       "      <td>233.0</td>\n",
       "      <td>1.0</td>\n",
       "      <td>150.0</td>\n",
       "      <td>0.0</td>\n",
       "      <td>2.3</td>\n",
       "      <td>0.0</td>\n",
       "      <td>1</td>\n",
       "      <td>0</td>\n",
       "      <td>0</td>\n",
       "      <td>0</td>\n",
       "      <td>0</td>\n",
       "      <td>0</td>\n",
       "      <td>1</td>\n",
       "      <td>0</td>\n",
       "      <td>0</td>\n",
       "      <td>1</td>\n",
       "      <td>0</td>\n",
       "      <td>1</td>\n",
       "      <td>0</td>\n",
       "    </tr>\n",
       "    <tr>\n",
       "      <th>1</th>\n",
       "      <td>67.0</td>\n",
       "      <td>1.0</td>\n",
       "      <td>160.0</td>\n",
       "      <td>286.0</td>\n",
       "      <td>0.0</td>\n",
       "      <td>108.0</td>\n",
       "      <td>1.0</td>\n",
       "      <td>1.5</td>\n",
       "      <td>3.0</td>\n",
       "      <td>0</td>\n",
       "      <td>0</td>\n",
       "      <td>0</td>\n",
       "      <td>1</td>\n",
       "      <td>0</td>\n",
       "      <td>0</td>\n",
       "      <td>1</td>\n",
       "      <td>0</td>\n",
       "      <td>1</td>\n",
       "      <td>0</td>\n",
       "      <td>1</td>\n",
       "      <td>0</td>\n",
       "      <td>0</td>\n",
       "    </tr>\n",
       "    <tr>\n",
       "      <th>2</th>\n",
       "      <td>67.0</td>\n",
       "      <td>1.0</td>\n",
       "      <td>120.0</td>\n",
       "      <td>229.0</td>\n",
       "      <td>0.0</td>\n",
       "      <td>129.0</td>\n",
       "      <td>1.0</td>\n",
       "      <td>2.6</td>\n",
       "      <td>2.0</td>\n",
       "      <td>0</td>\n",
       "      <td>0</td>\n",
       "      <td>0</td>\n",
       "      <td>1</td>\n",
       "      <td>0</td>\n",
       "      <td>0</td>\n",
       "      <td>1</td>\n",
       "      <td>0</td>\n",
       "      <td>1</td>\n",
       "      <td>0</td>\n",
       "      <td>0</td>\n",
       "      <td>0</td>\n",
       "      <td>1</td>\n",
       "    </tr>\n",
       "    <tr>\n",
       "      <th>3</th>\n",
       "      <td>37.0</td>\n",
       "      <td>1.0</td>\n",
       "      <td>130.0</td>\n",
       "      <td>250.0</td>\n",
       "      <td>0.0</td>\n",
       "      <td>187.0</td>\n",
       "      <td>0.0</td>\n",
       "      <td>3.5</td>\n",
       "      <td>0.0</td>\n",
       "      <td>0</td>\n",
       "      <td>0</td>\n",
       "      <td>1</td>\n",
       "      <td>0</td>\n",
       "      <td>1</td>\n",
       "      <td>0</td>\n",
       "      <td>0</td>\n",
       "      <td>0</td>\n",
       "      <td>0</td>\n",
       "      <td>1</td>\n",
       "      <td>1</td>\n",
       "      <td>0</td>\n",
       "      <td>0</td>\n",
       "    </tr>\n",
       "    <tr>\n",
       "      <th>4</th>\n",
       "      <td>41.0</td>\n",
       "      <td>0.0</td>\n",
       "      <td>130.0</td>\n",
       "      <td>204.0</td>\n",
       "      <td>0.0</td>\n",
       "      <td>172.0</td>\n",
       "      <td>0.0</td>\n",
       "      <td>1.4</td>\n",
       "      <td>0.0</td>\n",
       "      <td>0</td>\n",
       "      <td>1</td>\n",
       "      <td>0</td>\n",
       "      <td>0</td>\n",
       "      <td>0</td>\n",
       "      <td>0</td>\n",
       "      <td>1</td>\n",
       "      <td>1</td>\n",
       "      <td>0</td>\n",
       "      <td>0</td>\n",
       "      <td>1</td>\n",
       "      <td>0</td>\n",
       "      <td>0</td>\n",
       "    </tr>\n",
       "  </tbody>\n",
       "</table>\n",
       "</div>"
      ],
      "text/plain": [
       "    age  sex  restbp   chol  fbs  thalach  exang  oldeak   ca  cp_1.0  cp_2.0  \\\n",
       "0  63.0  1.0   145.0  233.0  1.0    150.0    0.0     2.3  0.0       1       0   \n",
       "1  67.0  1.0   160.0  286.0  0.0    108.0    1.0     1.5  3.0       0       0   \n",
       "2  67.0  1.0   120.0  229.0  0.0    129.0    1.0     2.6  2.0       0       0   \n",
       "3  37.0  1.0   130.0  250.0  0.0    187.0    0.0     3.5  0.0       0       0   \n",
       "4  41.0  0.0   130.0  204.0  0.0    172.0    0.0     1.4  0.0       0       1   \n",
       "\n",
       "   cp_3.0  cp_4.0  restecg_0.0  restecg_1.0  restecg_2.0  slope_1.0  \\\n",
       "0       0       0            0            0            1          0   \n",
       "1       0       1            0            0            1          0   \n",
       "2       0       1            0            0            1          0   \n",
       "3       1       0            1            0            0          0   \n",
       "4       0       0            0            0            1          1   \n",
       "\n",
       "   slope_2.0  slope_3.0  thal_3.0  thal_6.0  thal_7.0  \n",
       "0          0          1         0         1         0  \n",
       "1          1          0         1         0         0  \n",
       "2          1          0         0         0         1  \n",
       "3          0          1         1         0         0  \n",
       "4          0          0         1         0         0  "
      ]
     },
     "execution_count": 23,
     "metadata": {},
     "output_type": "execute_result"
    }
   ],
   "source": [
    "X_encoded = pd.get_dummies(X,columns=['cp','restecg','slope','thal'])\n",
    "X_encoded.head()"
   ]
  },
  {
   "cell_type": "markdown",
   "id": "f3b2bff2",
   "metadata": {
    "papermill": {
     "duration": 0.024025,
     "end_time": "2023-07-17T17:38:44.943068",
     "exception": false,
     "start_time": "2023-07-17T17:38:44.919043",
     "status": "completed"
    },
    "tags": []
   },
   "source": [
    "**3 other categoriacl  columns sex , fb and exang only contains o's and 1's so othing much to do**"
   ]
  },
  {
   "cell_type": "code",
   "execution_count": 24,
   "id": "2d4ac688",
   "metadata": {
    "execution": {
     "iopub.execute_input": "2023-07-17T17:38:44.994128Z",
     "iopub.status.busy": "2023-07-17T17:38:44.993430Z",
     "iopub.status.idle": "2023-07-17T17:38:45.003355Z",
     "shell.execute_reply": "2023-07-17T17:38:45.001275Z"
    },
    "papermill": {
     "duration": 0.038514,
     "end_time": "2023-07-17T17:38:45.005846",
     "exception": false,
     "start_time": "2023-07-17T17:38:44.967332",
     "status": "completed"
    },
    "tags": []
   },
   "outputs": [
    {
     "data": {
      "text/plain": [
       "array([0, 2, 1, 3, 4])"
      ]
     },
     "execution_count": 24,
     "metadata": {},
     "output_type": "execute_result"
    }
   ],
   "source": [
    "y.unique()"
   ]
  },
  {
   "cell_type": "markdown",
   "id": "8da7f34b",
   "metadata": {
    "papermill": {
     "duration": 0.025803,
     "end_time": "2023-07-17T17:38:45.056475",
     "exception": false,
     "start_time": "2023-07-17T17:38:45.030672",
     "status": "completed"
    },
    "tags": []
   },
   "source": [
    "**Converting values greater than 0 to one for simplification purpose**"
   ]
  },
  {
   "cell_type": "code",
   "execution_count": 25,
   "id": "ea04f824",
   "metadata": {
    "execution": {
     "iopub.execute_input": "2023-07-17T17:38:45.108179Z",
     "iopub.status.busy": "2023-07-17T17:38:45.107388Z",
     "iopub.status.idle": "2023-07-17T17:38:45.114642Z",
     "shell.execute_reply": "2023-07-17T17:38:45.113704Z"
    },
    "papermill": {
     "duration": 0.035896,
     "end_time": "2023-07-17T17:38:45.117137",
     "exception": false,
     "start_time": "2023-07-17T17:38:45.081241",
     "status": "completed"
    },
    "tags": []
   },
   "outputs": [],
   "source": [
    "index=y>0#y.loc[y>0]=1\n",
    "y[index]=1\n",
    "# print(index)"
   ]
  },
  {
   "cell_type": "code",
   "execution_count": 26,
   "id": "3c54c4bd",
   "metadata": {
    "execution": {
     "iopub.execute_input": "2023-07-17T17:38:45.167835Z",
     "iopub.status.busy": "2023-07-17T17:38:45.167420Z",
     "iopub.status.idle": "2023-07-17T17:38:45.174885Z",
     "shell.execute_reply": "2023-07-17T17:38:45.173650Z"
    },
    "papermill": {
     "duration": 0.036321,
     "end_time": "2023-07-17T17:38:45.177621",
     "exception": false,
     "start_time": "2023-07-17T17:38:45.141300",
     "status": "completed"
    },
    "tags": []
   },
   "outputs": [
    {
     "data": {
      "text/plain": [
       "array([0, 1])"
      ]
     },
     "execution_count": 26,
     "metadata": {},
     "output_type": "execute_result"
    }
   ],
   "source": [
    "y.unique()"
   ]
  },
  {
   "cell_type": "code",
   "execution_count": 27,
   "id": "525a6fbb",
   "metadata": {
    "execution": {
     "iopub.execute_input": "2023-07-17T17:38:45.230124Z",
     "iopub.status.busy": "2023-07-17T17:38:45.228869Z",
     "iopub.status.idle": "2023-07-17T17:38:45.237230Z",
     "shell.execute_reply": "2023-07-17T17:38:45.236253Z"
    },
    "papermill": {
     "duration": 0.036791,
     "end_time": "2023-07-17T17:38:45.239346",
     "exception": false,
     "start_time": "2023-07-17T17:38:45.202555",
     "status": "completed"
    },
    "tags": []
   },
   "outputs": [
    {
     "data": {
      "text/plain": [
       "0     0\n",
       "1     1\n",
       "2     1\n",
       "3     0\n",
       "4     0\n",
       "5     0\n",
       "6     1\n",
       "7     0\n",
       "8     1\n",
       "9     1\n",
       "10    0\n",
       "11    0\n",
       "12    1\n",
       "13    0\n",
       "14    0\n",
       "15    0\n",
       "16    1\n",
       "Name: hd, dtype: int64"
      ]
     },
     "execution_count": 27,
     "metadata": {},
     "output_type": "execute_result"
    }
   ],
   "source": [
    "y.head(17)"
   ]
  },
  {
   "cell_type": "code",
   "execution_count": 28,
   "id": "44d841e8",
   "metadata": {
    "execution": {
     "iopub.execute_input": "2023-07-17T17:38:45.291760Z",
     "iopub.status.busy": "2023-07-17T17:38:45.291298Z",
     "iopub.status.idle": "2023-07-17T17:38:45.298210Z",
     "shell.execute_reply": "2023-07-17T17:38:45.296887Z"
    },
    "papermill": {
     "duration": 0.03572,
     "end_time": "2023-07-17T17:38:45.300835",
     "exception": false,
     "start_time": "2023-07-17T17:38:45.265115",
     "status": "completed"
    },
    "tags": []
   },
   "outputs": [],
   "source": [
    "merged_df = pd.concat([X_encoded, y], axis=1)"
   ]
  },
  {
   "cell_type": "code",
   "execution_count": 29,
   "id": "ce9b8668",
   "metadata": {
    "execution": {
     "iopub.execute_input": "2023-07-17T17:38:45.352007Z",
     "iopub.status.busy": "2023-07-17T17:38:45.351575Z",
     "iopub.status.idle": "2023-07-17T17:38:45.390229Z",
     "shell.execute_reply": "2023-07-17T17:38:45.388930Z"
    },
    "papermill": {
     "duration": 0.066994,
     "end_time": "2023-07-17T17:38:45.392674",
     "exception": false,
     "start_time": "2023-07-17T17:38:45.325680",
     "status": "completed"
    },
    "tags": []
   },
   "outputs": [
    {
     "data": {
      "text/html": [
       "<div>\n",
       "<style scoped>\n",
       "    .dataframe tbody tr th:only-of-type {\n",
       "        vertical-align: middle;\n",
       "    }\n",
       "\n",
       "    .dataframe tbody tr th {\n",
       "        vertical-align: top;\n",
       "    }\n",
       "\n",
       "    .dataframe thead th {\n",
       "        text-align: right;\n",
       "    }\n",
       "</style>\n",
       "<table border=\"1\" class=\"dataframe\">\n",
       "  <thead>\n",
       "    <tr style=\"text-align: right;\">\n",
       "      <th></th>\n",
       "      <th>age</th>\n",
       "      <th>sex</th>\n",
       "      <th>restbp</th>\n",
       "      <th>chol</th>\n",
       "      <th>fbs</th>\n",
       "      <th>thalach</th>\n",
       "      <th>exang</th>\n",
       "      <th>oldeak</th>\n",
       "      <th>ca</th>\n",
       "      <th>cp_1.0</th>\n",
       "      <th>cp_2.0</th>\n",
       "      <th>cp_3.0</th>\n",
       "      <th>cp_4.0</th>\n",
       "      <th>restecg_0.0</th>\n",
       "      <th>restecg_1.0</th>\n",
       "      <th>restecg_2.0</th>\n",
       "      <th>slope_1.0</th>\n",
       "      <th>slope_2.0</th>\n",
       "      <th>slope_3.0</th>\n",
       "      <th>thal_3.0</th>\n",
       "      <th>thal_6.0</th>\n",
       "      <th>thal_7.0</th>\n",
       "      <th>hd</th>\n",
       "    </tr>\n",
       "  </thead>\n",
       "  <tbody>\n",
       "    <tr>\n",
       "      <th>0</th>\n",
       "      <td>63.0</td>\n",
       "      <td>1.0</td>\n",
       "      <td>145.0</td>\n",
       "      <td>233.0</td>\n",
       "      <td>1.0</td>\n",
       "      <td>150.0</td>\n",
       "      <td>0.0</td>\n",
       "      <td>2.3</td>\n",
       "      <td>0.0</td>\n",
       "      <td>1</td>\n",
       "      <td>0</td>\n",
       "      <td>0</td>\n",
       "      <td>0</td>\n",
       "      <td>0</td>\n",
       "      <td>0</td>\n",
       "      <td>1</td>\n",
       "      <td>0</td>\n",
       "      <td>0</td>\n",
       "      <td>1</td>\n",
       "      <td>0</td>\n",
       "      <td>1</td>\n",
       "      <td>0</td>\n",
       "      <td>0</td>\n",
       "    </tr>\n",
       "    <tr>\n",
       "      <th>1</th>\n",
       "      <td>67.0</td>\n",
       "      <td>1.0</td>\n",
       "      <td>160.0</td>\n",
       "      <td>286.0</td>\n",
       "      <td>0.0</td>\n",
       "      <td>108.0</td>\n",
       "      <td>1.0</td>\n",
       "      <td>1.5</td>\n",
       "      <td>3.0</td>\n",
       "      <td>0</td>\n",
       "      <td>0</td>\n",
       "      <td>0</td>\n",
       "      <td>1</td>\n",
       "      <td>0</td>\n",
       "      <td>0</td>\n",
       "      <td>1</td>\n",
       "      <td>0</td>\n",
       "      <td>1</td>\n",
       "      <td>0</td>\n",
       "      <td>1</td>\n",
       "      <td>0</td>\n",
       "      <td>0</td>\n",
       "      <td>1</td>\n",
       "    </tr>\n",
       "    <tr>\n",
       "      <th>2</th>\n",
       "      <td>67.0</td>\n",
       "      <td>1.0</td>\n",
       "      <td>120.0</td>\n",
       "      <td>229.0</td>\n",
       "      <td>0.0</td>\n",
       "      <td>129.0</td>\n",
       "      <td>1.0</td>\n",
       "      <td>2.6</td>\n",
       "      <td>2.0</td>\n",
       "      <td>0</td>\n",
       "      <td>0</td>\n",
       "      <td>0</td>\n",
       "      <td>1</td>\n",
       "      <td>0</td>\n",
       "      <td>0</td>\n",
       "      <td>1</td>\n",
       "      <td>0</td>\n",
       "      <td>1</td>\n",
       "      <td>0</td>\n",
       "      <td>0</td>\n",
       "      <td>0</td>\n",
       "      <td>1</td>\n",
       "      <td>1</td>\n",
       "    </tr>\n",
       "    <tr>\n",
       "      <th>3</th>\n",
       "      <td>37.0</td>\n",
       "      <td>1.0</td>\n",
       "      <td>130.0</td>\n",
       "      <td>250.0</td>\n",
       "      <td>0.0</td>\n",
       "      <td>187.0</td>\n",
       "      <td>0.0</td>\n",
       "      <td>3.5</td>\n",
       "      <td>0.0</td>\n",
       "      <td>0</td>\n",
       "      <td>0</td>\n",
       "      <td>1</td>\n",
       "      <td>0</td>\n",
       "      <td>1</td>\n",
       "      <td>0</td>\n",
       "      <td>0</td>\n",
       "      <td>0</td>\n",
       "      <td>0</td>\n",
       "      <td>1</td>\n",
       "      <td>1</td>\n",
       "      <td>0</td>\n",
       "      <td>0</td>\n",
       "      <td>0</td>\n",
       "    </tr>\n",
       "    <tr>\n",
       "      <th>4</th>\n",
       "      <td>41.0</td>\n",
       "      <td>0.0</td>\n",
       "      <td>130.0</td>\n",
       "      <td>204.0</td>\n",
       "      <td>0.0</td>\n",
       "      <td>172.0</td>\n",
       "      <td>0.0</td>\n",
       "      <td>1.4</td>\n",
       "      <td>0.0</td>\n",
       "      <td>0</td>\n",
       "      <td>1</td>\n",
       "      <td>0</td>\n",
       "      <td>0</td>\n",
       "      <td>0</td>\n",
       "      <td>0</td>\n",
       "      <td>1</td>\n",
       "      <td>1</td>\n",
       "      <td>0</td>\n",
       "      <td>0</td>\n",
       "      <td>1</td>\n",
       "      <td>0</td>\n",
       "      <td>0</td>\n",
       "      <td>0</td>\n",
       "    </tr>\n",
       "    <tr>\n",
       "      <th>...</th>\n",
       "      <td>...</td>\n",
       "      <td>...</td>\n",
       "      <td>...</td>\n",
       "      <td>...</td>\n",
       "      <td>...</td>\n",
       "      <td>...</td>\n",
       "      <td>...</td>\n",
       "      <td>...</td>\n",
       "      <td>...</td>\n",
       "      <td>...</td>\n",
       "      <td>...</td>\n",
       "      <td>...</td>\n",
       "      <td>...</td>\n",
       "      <td>...</td>\n",
       "      <td>...</td>\n",
       "      <td>...</td>\n",
       "      <td>...</td>\n",
       "      <td>...</td>\n",
       "      <td>...</td>\n",
       "      <td>...</td>\n",
       "      <td>...</td>\n",
       "      <td>...</td>\n",
       "      <td>...</td>\n",
       "    </tr>\n",
       "    <tr>\n",
       "      <th>297</th>\n",
       "      <td>57.0</td>\n",
       "      <td>0.0</td>\n",
       "      <td>140.0</td>\n",
       "      <td>241.0</td>\n",
       "      <td>0.0</td>\n",
       "      <td>123.0</td>\n",
       "      <td>1.0</td>\n",
       "      <td>0.2</td>\n",
       "      <td>0.0</td>\n",
       "      <td>0</td>\n",
       "      <td>0</td>\n",
       "      <td>0</td>\n",
       "      <td>1</td>\n",
       "      <td>1</td>\n",
       "      <td>0</td>\n",
       "      <td>0</td>\n",
       "      <td>0</td>\n",
       "      <td>1</td>\n",
       "      <td>0</td>\n",
       "      <td>0</td>\n",
       "      <td>0</td>\n",
       "      <td>1</td>\n",
       "      <td>1</td>\n",
       "    </tr>\n",
       "    <tr>\n",
       "      <th>298</th>\n",
       "      <td>45.0</td>\n",
       "      <td>1.0</td>\n",
       "      <td>110.0</td>\n",
       "      <td>264.0</td>\n",
       "      <td>0.0</td>\n",
       "      <td>132.0</td>\n",
       "      <td>0.0</td>\n",
       "      <td>1.2</td>\n",
       "      <td>0.0</td>\n",
       "      <td>1</td>\n",
       "      <td>0</td>\n",
       "      <td>0</td>\n",
       "      <td>0</td>\n",
       "      <td>1</td>\n",
       "      <td>0</td>\n",
       "      <td>0</td>\n",
       "      <td>0</td>\n",
       "      <td>1</td>\n",
       "      <td>0</td>\n",
       "      <td>0</td>\n",
       "      <td>0</td>\n",
       "      <td>1</td>\n",
       "      <td>1</td>\n",
       "    </tr>\n",
       "    <tr>\n",
       "      <th>299</th>\n",
       "      <td>68.0</td>\n",
       "      <td>1.0</td>\n",
       "      <td>144.0</td>\n",
       "      <td>193.0</td>\n",
       "      <td>1.0</td>\n",
       "      <td>141.0</td>\n",
       "      <td>0.0</td>\n",
       "      <td>3.4</td>\n",
       "      <td>2.0</td>\n",
       "      <td>0</td>\n",
       "      <td>0</td>\n",
       "      <td>0</td>\n",
       "      <td>1</td>\n",
       "      <td>1</td>\n",
       "      <td>0</td>\n",
       "      <td>0</td>\n",
       "      <td>0</td>\n",
       "      <td>1</td>\n",
       "      <td>0</td>\n",
       "      <td>0</td>\n",
       "      <td>0</td>\n",
       "      <td>1</td>\n",
       "      <td>1</td>\n",
       "    </tr>\n",
       "    <tr>\n",
       "      <th>300</th>\n",
       "      <td>57.0</td>\n",
       "      <td>1.0</td>\n",
       "      <td>130.0</td>\n",
       "      <td>131.0</td>\n",
       "      <td>0.0</td>\n",
       "      <td>115.0</td>\n",
       "      <td>1.0</td>\n",
       "      <td>1.2</td>\n",
       "      <td>1.0</td>\n",
       "      <td>0</td>\n",
       "      <td>0</td>\n",
       "      <td>0</td>\n",
       "      <td>1</td>\n",
       "      <td>1</td>\n",
       "      <td>0</td>\n",
       "      <td>0</td>\n",
       "      <td>0</td>\n",
       "      <td>1</td>\n",
       "      <td>0</td>\n",
       "      <td>0</td>\n",
       "      <td>0</td>\n",
       "      <td>1</td>\n",
       "      <td>1</td>\n",
       "    </tr>\n",
       "    <tr>\n",
       "      <th>301</th>\n",
       "      <td>57.0</td>\n",
       "      <td>0.0</td>\n",
       "      <td>130.0</td>\n",
       "      <td>236.0</td>\n",
       "      <td>0.0</td>\n",
       "      <td>174.0</td>\n",
       "      <td>0.0</td>\n",
       "      <td>0.0</td>\n",
       "      <td>1.0</td>\n",
       "      <td>0</td>\n",
       "      <td>1</td>\n",
       "      <td>0</td>\n",
       "      <td>0</td>\n",
       "      <td>0</td>\n",
       "      <td>0</td>\n",
       "      <td>1</td>\n",
       "      <td>0</td>\n",
       "      <td>1</td>\n",
       "      <td>0</td>\n",
       "      <td>1</td>\n",
       "      <td>0</td>\n",
       "      <td>0</td>\n",
       "      <td>1</td>\n",
       "    </tr>\n",
       "  </tbody>\n",
       "</table>\n",
       "<p>297 rows × 23 columns</p>\n",
       "</div>"
      ],
      "text/plain": [
       "      age  sex  restbp   chol  fbs  thalach  exang  oldeak   ca  cp_1.0  \\\n",
       "0    63.0  1.0   145.0  233.0  1.0    150.0    0.0     2.3  0.0       1   \n",
       "1    67.0  1.0   160.0  286.0  0.0    108.0    1.0     1.5  3.0       0   \n",
       "2    67.0  1.0   120.0  229.0  0.0    129.0    1.0     2.6  2.0       0   \n",
       "3    37.0  1.0   130.0  250.0  0.0    187.0    0.0     3.5  0.0       0   \n",
       "4    41.0  0.0   130.0  204.0  0.0    172.0    0.0     1.4  0.0       0   \n",
       "..    ...  ...     ...    ...  ...      ...    ...     ...  ...     ...   \n",
       "297  57.0  0.0   140.0  241.0  0.0    123.0    1.0     0.2  0.0       0   \n",
       "298  45.0  1.0   110.0  264.0  0.0    132.0    0.0     1.2  0.0       1   \n",
       "299  68.0  1.0   144.0  193.0  1.0    141.0    0.0     3.4  2.0       0   \n",
       "300  57.0  1.0   130.0  131.0  0.0    115.0    1.0     1.2  1.0       0   \n",
       "301  57.0  0.0   130.0  236.0  0.0    174.0    0.0     0.0  1.0       0   \n",
       "\n",
       "     cp_2.0  cp_3.0  cp_4.0  restecg_0.0  restecg_1.0  restecg_2.0  slope_1.0  \\\n",
       "0         0       0       0            0            0            1          0   \n",
       "1         0       0       1            0            0            1          0   \n",
       "2         0       0       1            0            0            1          0   \n",
       "3         0       1       0            1            0            0          0   \n",
       "4         1       0       0            0            0            1          1   \n",
       "..      ...     ...     ...          ...          ...          ...        ...   \n",
       "297       0       0       1            1            0            0          0   \n",
       "298       0       0       0            1            0            0          0   \n",
       "299       0       0       1            1            0            0          0   \n",
       "300       0       0       1            1            0            0          0   \n",
       "301       1       0       0            0            0            1          0   \n",
       "\n",
       "     slope_2.0  slope_3.0  thal_3.0  thal_6.0  thal_7.0  hd  \n",
       "0            0          1         0         1         0   0  \n",
       "1            1          0         1         0         0   1  \n",
       "2            1          0         0         0         1   1  \n",
       "3            0          1         1         0         0   0  \n",
       "4            0          0         1         0         0   0  \n",
       "..         ...        ...       ...       ...       ...  ..  \n",
       "297          1          0         0         0         1   1  \n",
       "298          1          0         0         0         1   1  \n",
       "299          1          0         0         0         1   1  \n",
       "300          1          0         0         0         1   1  \n",
       "301          1          0         1         0         0   1  \n",
       "\n",
       "[297 rows x 23 columns]"
      ]
     },
     "execution_count": 29,
     "metadata": {},
     "output_type": "execute_result"
    }
   ],
   "source": [
    "merged_df"
   ]
  },
  {
   "cell_type": "code",
   "execution_count": 30,
   "id": "baa8ad75",
   "metadata": {
    "execution": {
     "iopub.execute_input": "2023-07-17T17:38:45.445365Z",
     "iopub.status.busy": "2023-07-17T17:38:45.444959Z",
     "iopub.status.idle": "2023-07-17T17:38:45.472353Z",
     "shell.execute_reply": "2023-07-17T17:38:45.471171Z"
    },
    "papermill": {
     "duration": 0.056938,
     "end_time": "2023-07-17T17:38:45.475016",
     "exception": false,
     "start_time": "2023-07-17T17:38:45.418078",
     "status": "completed"
    },
    "tags": []
   },
   "outputs": [
    {
     "data": {
      "text/html": [
       "<div>\n",
       "<style scoped>\n",
       "    .dataframe tbody tr th:only-of-type {\n",
       "        vertical-align: middle;\n",
       "    }\n",
       "\n",
       "    .dataframe tbody tr th {\n",
       "        vertical-align: top;\n",
       "    }\n",
       "\n",
       "    .dataframe thead th {\n",
       "        text-align: right;\n",
       "    }\n",
       "</style>\n",
       "<table border=\"1\" class=\"dataframe\">\n",
       "  <thead>\n",
       "    <tr style=\"text-align: right;\">\n",
       "      <th></th>\n",
       "      <th>age</th>\n",
       "      <th>sex</th>\n",
       "      <th>restbp</th>\n",
       "      <th>chol</th>\n",
       "      <th>fbs</th>\n",
       "      <th>thalach</th>\n",
       "      <th>exang</th>\n",
       "      <th>oldeak</th>\n",
       "      <th>ca</th>\n",
       "      <th>cp_1.0</th>\n",
       "      <th>cp_2.0</th>\n",
       "      <th>cp_3.0</th>\n",
       "      <th>cp_4.0</th>\n",
       "      <th>restecg_0.0</th>\n",
       "      <th>restecg_1.0</th>\n",
       "      <th>restecg_2.0</th>\n",
       "      <th>slope_1.0</th>\n",
       "      <th>slope_2.0</th>\n",
       "      <th>slope_3.0</th>\n",
       "      <th>thal_3.0</th>\n",
       "      <th>thal_6.0</th>\n",
       "      <th>thal_7.0</th>\n",
       "    </tr>\n",
       "  </thead>\n",
       "  <tbody>\n",
       "    <tr>\n",
       "      <th>0</th>\n",
       "      <td>63.0</td>\n",
       "      <td>1.0</td>\n",
       "      <td>145.0</td>\n",
       "      <td>233.0</td>\n",
       "      <td>1.0</td>\n",
       "      <td>150.0</td>\n",
       "      <td>0.0</td>\n",
       "      <td>2.3</td>\n",
       "      <td>0.0</td>\n",
       "      <td>1</td>\n",
       "      <td>0</td>\n",
       "      <td>0</td>\n",
       "      <td>0</td>\n",
       "      <td>0</td>\n",
       "      <td>0</td>\n",
       "      <td>1</td>\n",
       "      <td>0</td>\n",
       "      <td>0</td>\n",
       "      <td>1</td>\n",
       "      <td>0</td>\n",
       "      <td>1</td>\n",
       "      <td>0</td>\n",
       "    </tr>\n",
       "    <tr>\n",
       "      <th>1</th>\n",
       "      <td>67.0</td>\n",
       "      <td>1.0</td>\n",
       "      <td>160.0</td>\n",
       "      <td>286.0</td>\n",
       "      <td>0.0</td>\n",
       "      <td>108.0</td>\n",
       "      <td>1.0</td>\n",
       "      <td>1.5</td>\n",
       "      <td>3.0</td>\n",
       "      <td>0</td>\n",
       "      <td>0</td>\n",
       "      <td>0</td>\n",
       "      <td>1</td>\n",
       "      <td>0</td>\n",
       "      <td>0</td>\n",
       "      <td>1</td>\n",
       "      <td>0</td>\n",
       "      <td>1</td>\n",
       "      <td>0</td>\n",
       "      <td>1</td>\n",
       "      <td>0</td>\n",
       "      <td>0</td>\n",
       "    </tr>\n",
       "    <tr>\n",
       "      <th>2</th>\n",
       "      <td>67.0</td>\n",
       "      <td>1.0</td>\n",
       "      <td>120.0</td>\n",
       "      <td>229.0</td>\n",
       "      <td>0.0</td>\n",
       "      <td>129.0</td>\n",
       "      <td>1.0</td>\n",
       "      <td>2.6</td>\n",
       "      <td>2.0</td>\n",
       "      <td>0</td>\n",
       "      <td>0</td>\n",
       "      <td>0</td>\n",
       "      <td>1</td>\n",
       "      <td>0</td>\n",
       "      <td>0</td>\n",
       "      <td>1</td>\n",
       "      <td>0</td>\n",
       "      <td>1</td>\n",
       "      <td>0</td>\n",
       "      <td>0</td>\n",
       "      <td>0</td>\n",
       "      <td>1</td>\n",
       "    </tr>\n",
       "    <tr>\n",
       "      <th>3</th>\n",
       "      <td>37.0</td>\n",
       "      <td>1.0</td>\n",
       "      <td>130.0</td>\n",
       "      <td>250.0</td>\n",
       "      <td>0.0</td>\n",
       "      <td>187.0</td>\n",
       "      <td>0.0</td>\n",
       "      <td>3.5</td>\n",
       "      <td>0.0</td>\n",
       "      <td>0</td>\n",
       "      <td>0</td>\n",
       "      <td>1</td>\n",
       "      <td>0</td>\n",
       "      <td>1</td>\n",
       "      <td>0</td>\n",
       "      <td>0</td>\n",
       "      <td>0</td>\n",
       "      <td>0</td>\n",
       "      <td>1</td>\n",
       "      <td>1</td>\n",
       "      <td>0</td>\n",
       "      <td>0</td>\n",
       "    </tr>\n",
       "    <tr>\n",
       "      <th>4</th>\n",
       "      <td>41.0</td>\n",
       "      <td>0.0</td>\n",
       "      <td>130.0</td>\n",
       "      <td>204.0</td>\n",
       "      <td>0.0</td>\n",
       "      <td>172.0</td>\n",
       "      <td>0.0</td>\n",
       "      <td>1.4</td>\n",
       "      <td>0.0</td>\n",
       "      <td>0</td>\n",
       "      <td>1</td>\n",
       "      <td>0</td>\n",
       "      <td>0</td>\n",
       "      <td>0</td>\n",
       "      <td>0</td>\n",
       "      <td>1</td>\n",
       "      <td>1</td>\n",
       "      <td>0</td>\n",
       "      <td>0</td>\n",
       "      <td>1</td>\n",
       "      <td>0</td>\n",
       "      <td>0</td>\n",
       "    </tr>\n",
       "  </tbody>\n",
       "</table>\n",
       "</div>"
      ],
      "text/plain": [
       "    age  sex  restbp   chol  fbs  thalach  exang  oldeak   ca  cp_1.0  cp_2.0  \\\n",
       "0  63.0  1.0   145.0  233.0  1.0    150.0    0.0     2.3  0.0       1       0   \n",
       "1  67.0  1.0   160.0  286.0  0.0    108.0    1.0     1.5  3.0       0       0   \n",
       "2  67.0  1.0   120.0  229.0  0.0    129.0    1.0     2.6  2.0       0       0   \n",
       "3  37.0  1.0   130.0  250.0  0.0    187.0    0.0     3.5  0.0       0       0   \n",
       "4  41.0  0.0   130.0  204.0  0.0    172.0    0.0     1.4  0.0       0       1   \n",
       "\n",
       "   cp_3.0  cp_4.0  restecg_0.0  restecg_1.0  restecg_2.0  slope_1.0  \\\n",
       "0       0       0            0            0            1          0   \n",
       "1       0       1            0            0            1          0   \n",
       "2       0       1            0            0            1          0   \n",
       "3       1       0            1            0            0          0   \n",
       "4       0       0            0            0            1          1   \n",
       "\n",
       "   slope_2.0  slope_3.0  thal_3.0  thal_6.0  thal_7.0  \n",
       "0          0          1         0         1         0  \n",
       "1          1          0         1         0         0  \n",
       "2          1          0         0         0         1  \n",
       "3          0          1         1         0         0  \n",
       "4          0          0         1         0         0  "
      ]
     },
     "execution_count": 30,
     "metadata": {},
     "output_type": "execute_result"
    }
   ],
   "source": [
    "X= merged_df.drop('hd', axis=1).copy() # df_no_missing.iloc[::-1]\n",
    "X.head()"
   ]
  },
  {
   "cell_type": "code",
   "execution_count": 31,
   "id": "aeb3231f",
   "metadata": {
    "execution": {
     "iopub.execute_input": "2023-07-17T17:38:45.529088Z",
     "iopub.status.busy": "2023-07-17T17:38:45.528695Z",
     "iopub.status.idle": "2023-07-17T17:38:45.537298Z",
     "shell.execute_reply": "2023-07-17T17:38:45.536137Z"
    },
    "papermill": {
     "duration": 0.037888,
     "end_time": "2023-07-17T17:38:45.539684",
     "exception": false,
     "start_time": "2023-07-17T17:38:45.501796",
     "status": "completed"
    },
    "tags": []
   },
   "outputs": [
    {
     "data": {
      "text/plain": [
       "0    0\n",
       "1    1\n",
       "2    1\n",
       "3    0\n",
       "4    0\n",
       "Name: hd, dtype: int64"
      ]
     },
     "execution_count": 31,
     "metadata": {},
     "output_type": "execute_result"
    }
   ],
   "source": [
    "y = merged_df.hd.copy()\n",
    "y.head()"
   ]
  },
  {
   "cell_type": "code",
   "execution_count": 32,
   "id": "9e898208",
   "metadata": {
    "execution": {
     "iopub.execute_input": "2023-07-17T17:38:45.593713Z",
     "iopub.status.busy": "2023-07-17T17:38:45.593276Z",
     "iopub.status.idle": "2023-07-17T17:38:45.600575Z",
     "shell.execute_reply": "2023-07-17T17:38:45.599298Z"
    },
    "papermill": {
     "duration": 0.037653,
     "end_time": "2023-07-17T17:38:45.603047",
     "exception": false,
     "start_time": "2023-07-17T17:38:45.565394",
     "status": "completed"
    },
    "tags": []
   },
   "outputs": [
    {
     "data": {
      "text/plain": [
       "(297, 22)"
      ]
     },
     "execution_count": 32,
     "metadata": {},
     "output_type": "execute_result"
    }
   ],
   "source": [
    "X_encoded.shape"
   ]
  },
  {
   "cell_type": "code",
   "execution_count": 33,
   "id": "f10292e8",
   "metadata": {
    "execution": {
     "iopub.execute_input": "2023-07-17T17:38:45.657268Z",
     "iopub.status.busy": "2023-07-17T17:38:45.656441Z",
     "iopub.status.idle": "2023-07-17T17:38:45.663673Z",
     "shell.execute_reply": "2023-07-17T17:38:45.662385Z"
    },
    "papermill": {
     "duration": 0.036774,
     "end_time": "2023-07-17T17:38:45.665970",
     "exception": false,
     "start_time": "2023-07-17T17:38:45.629196",
     "status": "completed"
    },
    "tags": []
   },
   "outputs": [
    {
     "data": {
      "text/plain": [
       "(297,)"
      ]
     },
     "execution_count": 33,
     "metadata": {},
     "output_type": "execute_result"
    }
   ],
   "source": [
    "y.shape"
   ]
  },
  {
   "cell_type": "code",
   "execution_count": 34,
   "id": "8fe0791d",
   "metadata": {
    "execution": {
     "iopub.execute_input": "2023-07-17T17:38:45.719862Z",
     "iopub.status.busy": "2023-07-17T17:38:45.719381Z",
     "iopub.status.idle": "2023-07-17T17:38:45.729145Z",
     "shell.execute_reply": "2023-07-17T17:38:45.727842Z"
    },
    "papermill": {
     "duration": 0.039544,
     "end_time": "2023-07-17T17:38:45.731560",
     "exception": false,
     "start_time": "2023-07-17T17:38:45.692016",
     "status": "completed"
    },
    "tags": []
   },
   "outputs": [],
   "source": [
    "#splitting data\n",
    "x_train, x_test, y_train, y_test = train_test_split(X_encoded,y ,random_state=42,)\n",
    "#Creating decision tree\n",
    "clf_dt = DecisionTreeClassifier(random_state=42)\n"
   ]
  },
  {
   "cell_type": "code",
   "execution_count": 35,
   "id": "e2648390",
   "metadata": {
    "execution": {
     "iopub.execute_input": "2023-07-17T17:38:45.784962Z",
     "iopub.status.busy": "2023-07-17T17:38:45.784511Z",
     "iopub.status.idle": "2023-07-17T17:38:45.791744Z",
     "shell.execute_reply": "2023-07-17T17:38:45.790542Z"
    },
    "papermill": {
     "duration": 0.036576,
     "end_time": "2023-07-17T17:38:45.794030",
     "exception": false,
     "start_time": "2023-07-17T17:38:45.757454",
     "status": "completed"
    },
    "tags": []
   },
   "outputs": [
    {
     "data": {
      "text/plain": [
       "222"
      ]
     },
     "execution_count": 35,
     "metadata": {},
     "output_type": "execute_result"
    }
   ],
   "source": [
    "len(x_train)"
   ]
  },
  {
   "cell_type": "code",
   "execution_count": 36,
   "id": "d97e2be5",
   "metadata": {
    "execution": {
     "iopub.execute_input": "2023-07-17T17:38:45.849221Z",
     "iopub.status.busy": "2023-07-17T17:38:45.848783Z",
     "iopub.status.idle": "2023-07-17T17:38:45.855522Z",
     "shell.execute_reply": "2023-07-17T17:38:45.854395Z"
    },
    "papermill": {
     "duration": 0.037067,
     "end_time": "2023-07-17T17:38:45.858088",
     "exception": false,
     "start_time": "2023-07-17T17:38:45.821021",
     "status": "completed"
    },
    "tags": []
   },
   "outputs": [
    {
     "data": {
      "text/plain": [
       "222"
      ]
     },
     "execution_count": 36,
     "metadata": {},
     "output_type": "execute_result"
    }
   ],
   "source": [
    "len(y_train)"
   ]
  },
  {
   "cell_type": "code",
   "execution_count": 37,
   "id": "8fe23477",
   "metadata": {
    "execution": {
     "iopub.execute_input": "2023-07-17T17:38:45.913067Z",
     "iopub.status.busy": "2023-07-17T17:38:45.912640Z",
     "iopub.status.idle": "2023-07-17T17:38:45.924788Z",
     "shell.execute_reply": "2023-07-17T17:38:45.923674Z"
    },
    "papermill": {
     "duration": 0.042547,
     "end_time": "2023-07-17T17:38:45.927259",
     "exception": false,
     "start_time": "2023-07-17T17:38:45.884712",
     "status": "completed"
    },
    "tags": []
   },
   "outputs": [],
   "source": [
    "clf_dt = clf_dt.fit(x_train , y_train)"
   ]
  },
  {
   "cell_type": "code",
   "execution_count": 38,
   "id": "abd11a19",
   "metadata": {
    "execution": {
     "iopub.execute_input": "2023-07-17T17:38:45.982390Z",
     "iopub.status.busy": "2023-07-17T17:38:45.981932Z",
     "iopub.status.idle": "2023-07-17T17:38:50.020960Z",
     "shell.execute_reply": "2023-07-17T17:38:50.019788Z"
    },
    "papermill": {
     "duration": 4.074034,
     "end_time": "2023-07-17T17:38:50.028051",
     "exception": false,
     "start_time": "2023-07-17T17:38:45.954017",
     "status": "completed"
    },
    "tags": []
   },
   "outputs": [
    {
     "data": {
      "image/png": "[encoded data removed]",
      "text/plain": [
       "<Figure size 1500x1750 with 1 Axes>"
      ]
     },
     "metadata": {},
     "output_type": "display_data"
    }
   ],
   "source": [
    "plt.figure(figsize=(15,17.5))\n",
    "plot_tree(clf_dt,filled=True,rounded=True,class_names=[\"No HD\",\"Yes HD\"],feature_names=X_encoded.columns)\n",
    "plt.show()"
   ]
  },
  {
   "cell_type": "markdown",
   "id": "5fd81205",
   "metadata": {
    "papermill": {
     "duration": 0.030519,
     "end_time": "2023-07-17T17:38:50.089534",
     "exception": false,
     "start_time": "2023-07-17T17:38:50.059015",
     "status": "completed"
    },
    "tags": []
   },
   "source": [
    "# Confusion Matrix"
   ]
  },
  {
   "cell_type": "code",
   "execution_count": 39,
   "id": "2eb4beb7",
   "metadata": {
    "execution": {
     "iopub.execute_input": "2023-07-17T17:38:50.150335Z",
     "iopub.status.busy": "2023-07-17T17:38:50.149687Z",
     "iopub.status.idle": "2023-07-17T17:38:50.413801Z",
     "shell.execute_reply": "2023-07-17T17:38:50.412646Z"
    },
    "papermill": {
     "duration": 0.29783,
     "end_time": "2023-07-17T17:38:50.416724",
     "exception": false,
     "start_time": "2023-07-17T17:38:50.118894",
     "status": "completed"
    },
    "tags": []
   },
   "outputs": [
    {
     "data": {
      "text/plain": [
       "<sklearn.metrics._plot.confusion_matrix.ConfusionMatrixDisplay at 0x7f6827c6d630>"
      ]
     },
     "execution_count": 39,
     "metadata": {},
     "output_type": "execute_result"
    },
    {
     "data": {
      "image/png": "[encoded data removed]",
      "text/plain": [
       "<Figure size 640x480 with 2 Axes>"
      ]
     },
     "metadata": {},
     "output_type": "display_data"
    }
   ],
   "source": [
    "predictions = clf_dt.predict(x_test)\n",
    "cm = confusion_matrix(y_test, predictions, labels=clf_dt.classes_)\n",
    "\n",
    "\n",
    "disp=ConfusionMatrixDisplay(cm,display_labels=clf_dt.classes_)\n",
    "disp.plot()"
   ]
  },
  {
   "cell_type": "markdown",
   "id": "9d977c23",
   "metadata": {
    "papermill": {
     "duration": 0.029717,
     "end_time": "2023-07-17T17:38:50.477179",
     "exception": false,
     "start_time": "2023-07-17T17:38:50.447462",
     "status": "completed"
    },
    "tags": []
   },
   "source": [
    "# Cost complexity pruning"
   ]
  },
  {
   "cell_type": "code",
   "execution_count": 40,
   "id": "503e8f1c",
   "metadata": {
    "execution": {
     "iopub.execute_input": "2023-07-17T17:38:50.539567Z",
     "iopub.status.busy": "2023-07-17T17:38:50.539193Z",
     "iopub.status.idle": "2023-07-17T17:38:50.549733Z",
     "shell.execute_reply": "2023-07-17T17:38:50.548653Z"
    },
    "papermill": {
     "duration": 0.045021,
     "end_time": "2023-07-17T17:38:50.552225",
     "exception": false,
     "start_time": "2023-07-17T17:38:50.507204",
     "status": "completed"
    },
    "tags": []
   },
   "outputs": [],
   "source": [
    "path=clf_dt.cost_complexity_pruning_path(x_train,y_train)\n",
    "ccp_alphas=path.ccp_alphas\n",
    "ccp_alphas=ccp_alphas[:-1]"
   ]
  },
  {
   "cell_type": "code",
   "execution_count": 41,
   "id": "545599d8",
   "metadata": {
    "execution": {
     "iopub.execute_input": "2023-07-17T17:38:50.614634Z",
     "iopub.status.busy": "2023-07-17T17:38:50.614132Z",
     "iopub.status.idle": "2023-07-17T17:38:50.619309Z",
     "shell.execute_reply": "2023-07-17T17:38:50.618227Z"
    },
    "papermill": {
     "duration": 0.039434,
     "end_time": "2023-07-17T17:38:50.621828",
     "exception": false,
     "start_time": "2023-07-17T17:38:50.582394",
     "status": "completed"
    },
    "tags": []
   },
   "outputs": [],
   "source": [
    "clf_dts=[]"
   ]
  },
  {
   "cell_type": "code",
   "execution_count": 42,
   "id": "632ae16a",
   "metadata": {
    "execution": {
     "iopub.execute_input": "2023-07-17T17:38:50.685590Z",
     "iopub.status.busy": "2023-07-17T17:38:50.684762Z",
     "iopub.status.idle": "2023-07-17T17:38:50.801154Z",
     "shell.execute_reply": "2023-07-17T17:38:50.800035Z"
    },
    "papermill": {
     "duration": 0.151345,
     "end_time": "2023-07-17T17:38:50.803876",
     "exception": false,
     "start_time": "2023-07-17T17:38:50.652531",
     "status": "completed"
    },
    "tags": []
   },
   "outputs": [],
   "source": [
    "for ccp_alpha in ccp_alphas:\n",
    "    clf_dt=DecisionTreeClassifier(random_state=0,ccp_alpha=ccp_alpha)\n",
    "    clf_dt.fit(x_train,y_train)\n",
    "    clf_dts.append(clf_dt)"
   ]
  },
  {
   "cell_type": "code",
   "execution_count": 43,
   "id": "f46850ec",
   "metadata": {
    "execution": {
     "iopub.execute_input": "2023-07-17T17:38:50.866726Z",
     "iopub.status.busy": "2023-07-17T17:38:50.866260Z",
     "iopub.status.idle": "2023-07-17T17:38:51.326302Z",
     "shell.execute_reply": "2023-07-17T17:38:51.324657Z"
    },
    "papermill": {
     "duration": 0.4945,
     "end_time": "2023-07-17T17:38:51.329379",
     "exception": false,
     "start_time": "2023-07-17T17:38:50.834879",
     "status": "completed"
    },
    "tags": []
   },
   "outputs": [
    {
     "data": {
      "text/plain": [
       "[<matplotlib.lines.Line2D at 0x7f682a4a8580>]"
      ]
     },
     "execution_count": 43,
     "metadata": {},
     "output_type": "execute_result"
    },
    {
     "data": {
      "image/png": "[encoded data removed]",
      "text/plain": [
       "<Figure size 640x480 with 1 Axes>"
      ]
     },
     "metadata": {},
     "output_type": "display_data"
    }
   ],
   "source": [
    "train_score=[clf_dt.score(x_train,y_train)for clf_dt in clf_dts]\n",
    "test_score=[clf_dt.score(x_test,y_test)for clf_dt in clf_dts]\n",
    "fig,ax=plt.subplots()\n",
    "ax.set_xlabel(\"alpha\")\n",
    "ax.set_ylabel(\"accuracy\")\n",
    "ax.set_title(\"accuracy and alpha for testing and training setd\")\n",
    "ax.plot(ccp_alphas , train_score ,\"ro--\")\n",
    "ax.plot(ccp_alphas , test_score ,\"go--\")"
   ]
  },
  {
   "cell_type": "markdown",
   "id": "b7f962e9",
   "metadata": {
    "papermill": {
     "duration": 0.031344,
     "end_time": "2023-07-17T17:38:51.391532",
     "exception": false,
     "start_time": "2023-07-17T17:38:51.360188",
     "status": "completed"
    },
    "tags": []
   },
   "source": [
    "**Cross Validataion for finding the best Alpha**"
   ]
  },
  {
   "cell_type": "code",
   "execution_count": 44,
   "id": "4839761d",
   "metadata": {
    "execution": {
     "iopub.execute_input": "2023-07-17T17:38:51.456441Z",
     "iopub.status.busy": "2023-07-17T17:38:51.455714Z",
     "iopub.status.idle": "2023-07-17T17:38:51.505797Z",
     "shell.execute_reply": "2023-07-17T17:38:51.504487Z"
    },
    "papermill": {
     "duration": 0.085962,
     "end_time": "2023-07-17T17:38:51.508420",
     "exception": false,
     "start_time": "2023-07-17T17:38:51.422458",
     "status": "completed"
    },
    "tags": []
   },
   "outputs": [],
   "source": [
    "clf_dt = DecisionTreeClassifier(random_state =42 , ccp_alpha=0.016)\n",
    "scores=cross_val_score(clf_dt,x_train,y_train,cv=5)\n",
    "df=pd.DataFrame(data={'tree':range(5),'accuracy':scores})\n"
   ]
  },
  {
   "cell_type": "code",
   "execution_count": 45,
   "id": "a241a100",
   "metadata": {
    "execution": {
     "iopub.execute_input": "2023-07-17T17:38:51.572827Z",
     "iopub.status.busy": "2023-07-17T17:38:51.572376Z",
     "iopub.status.idle": "2023-07-17T17:38:51.915815Z",
     "shell.execute_reply": "2023-07-17T17:38:51.914851Z"
    },
    "papermill": {
     "duration": 0.37903,
     "end_time": "2023-07-17T17:38:51.918282",
     "exception": false,
     "start_time": "2023-07-17T17:38:51.539252",
     "status": "completed"
    },
    "tags": []
   },
   "outputs": [
    {
     "data": {
      "text/plain": [
       "<Axes: xlabel='tree'>"
      ]
     },
     "execution_count": 45,
     "metadata": {},
     "output_type": "execute_result"
    },
    {
     "data": {
      "image/png": "[encoded data removed]",
      "text/plain": [
       "<Figure size 640x480 with 1 Axes>"
      ]
     },
     "metadata": {},
     "output_type": "display_data"
    }
   ],
   "source": [
    "df.plot(x='tree', y='accuracy', style=\"go--\")\n"
   ]
  },
  {
   "cell_type": "code",
   "execution_count": 46,
   "id": "bb00f738",
   "metadata": {
    "execution": {
     "iopub.execute_input": "2023-07-17T17:38:51.984579Z",
     "iopub.status.busy": "2023-07-17T17:38:51.983428Z",
     "iopub.status.idle": "2023-07-17T17:38:52.993744Z",
     "shell.execute_reply": "2023-07-17T17:38:52.992854Z"
    },
    "papermill": {
     "duration": 1.046137,
     "end_time": "2023-07-17T17:38:52.996377",
     "exception": false,
     "start_time": "2023-07-17T17:38:51.950240",
     "status": "completed"
    },
    "tags": []
   },
   "outputs": [],
   "source": [
    "alpha_loop_values=[]\n",
    "for ccp_alpha in ccp_alphas:\n",
    "    clf_dt = DecisionTreeClassifier(random_state=0 ,ccp_alpha=ccp_alpha)\n",
    "    scores = cross_val_score(clf_dt,x_train,y_train , cv=5)\n",
    "    alpha_loop_values.append([ccp_alpha,np.mean(scores),np.std(scores)])\n",
    "    "
   ]
  },
  {
   "cell_type": "code",
   "execution_count": 47,
   "id": "3d794cc9",
   "metadata": {
    "execution": {
     "iopub.execute_input": "2023-07-17T17:38:53.064406Z",
     "iopub.status.busy": "2023-07-17T17:38:53.063713Z",
     "iopub.status.idle": "2023-07-17T17:38:53.069914Z",
     "shell.execute_reply": "2023-07-17T17:38:53.068919Z"
    },
    "papermill": {
     "duration": 0.045345,
     "end_time": "2023-07-17T17:38:53.073009",
     "exception": false,
     "start_time": "2023-07-17T17:38:53.027664",
     "status": "completed"
    },
    "tags": []
   },
   "outputs": [],
   "source": [
    "alpha_results = pd.DataFrame(alpha_loop_values, columns =['alpha','mean_accuracy',\"std\"])"
   ]
  },
  {
   "cell_type": "code",
   "execution_count": 48,
   "id": "dc76b759",
   "metadata": {
    "execution": {
     "iopub.execute_input": "2023-07-17T17:38:53.140669Z",
     "iopub.status.busy": "2023-07-17T17:38:53.139292Z",
     "iopub.status.idle": "2023-07-17T17:38:53.460757Z",
     "shell.execute_reply": "2023-07-17T17:38:53.459795Z"
    },
    "papermill": {
     "duration": 0.357331,
     "end_time": "2023-07-17T17:38:53.463474",
     "exception": false,
     "start_time": "2023-07-17T17:38:53.106143",
     "status": "completed"
    },
    "tags": []
   },
   "outputs": [
    {
     "data": {
      "text/plain": [
       "<Axes: xlabel='alpha'>"
      ]
     },
     "execution_count": 48,
     "metadata": {},
     "output_type": "execute_result"
    },
    {
     "data": {
      "image/png": "[encoded data removed]",
      "text/plain": [
       "<Figure size 640x480 with 1 Axes>"
      ]
     },
     "metadata": {},
     "output_type": "display_data"
    }
   ],
   "source": [
    "alpha_results.plot(x='alpha' , y='mean_accuracy', yerr='std', style='bo--')"
   ]
  },
  {
   "cell_type": "code",
   "execution_count": 49,
   "id": "c25d3fa7",
   "metadata": {
    "execution": {
     "iopub.execute_input": "2023-07-17T17:38:53.529715Z",
     "iopub.status.busy": "2023-07-17T17:38:53.529269Z",
     "iopub.status.idle": "2023-07-17T17:38:53.542199Z",
     "shell.execute_reply": "2023-07-17T17:38:53.540993Z"
    },
    "papermill": {
     "duration": 0.04911,
     "end_time": "2023-07-17T17:38:53.544781",
     "exception": false,
     "start_time": "2023-07-17T17:38:53.495671",
     "status": "completed"
    },
    "tags": []
   },
   "outputs": [
    {
     "data": {
      "text/html": [
       "<div>\n",
       "<style scoped>\n",
       "    .dataframe tbody tr th:only-of-type {\n",
       "        vertical-align: middle;\n",
       "    }\n",
       "\n",
       "    .dataframe tbody tr th {\n",
       "        vertical-align: top;\n",
       "    }\n",
       "\n",
       "    .dataframe thead th {\n",
       "        text-align: right;\n",
       "    }\n",
       "</style>\n",
       "<table border=\"1\" class=\"dataframe\">\n",
       "  <thead>\n",
       "    <tr style=\"text-align: right;\">\n",
       "      <th></th>\n",
       "      <th>alpha</th>\n",
       "      <th>mean_accuracy</th>\n",
       "      <th>std</th>\n",
       "    </tr>\n",
       "  </thead>\n",
       "  <tbody>\n",
       "    <tr>\n",
       "      <th>20</th>\n",
       "      <td>0.014225</td>\n",
       "      <td>0.747778</td>\n",
       "      <td>0.091395</td>\n",
       "    </tr>\n",
       "  </tbody>\n",
       "</table>\n",
       "</div>"
      ],
      "text/plain": [
       "       alpha  mean_accuracy       std\n",
       "20  0.014225       0.747778  0.091395"
      ]
     },
     "execution_count": 49,
     "metadata": {},
     "output_type": "execute_result"
    }
   ],
   "source": [
    "alpha_results[(alpha_results['alpha']>0.014) & (alpha_results['alpha']<0.015)]"
   ]
  },
  {
   "cell_type": "code",
   "execution_count": 50,
   "id": "a5e0258b",
   "metadata": {
    "execution": {
     "iopub.execute_input": "2023-07-17T17:38:53.611381Z",
     "iopub.status.busy": "2023-07-17T17:38:53.610970Z",
     "iopub.status.idle": "2023-07-17T17:38:53.617544Z",
     "shell.execute_reply": "2023-07-17T17:38:53.616292Z"
    },
    "papermill": {
     "duration": 0.042846,
     "end_time": "2023-07-17T17:38:53.619869",
     "exception": false,
     "start_time": "2023-07-17T17:38:53.577023",
     "status": "completed"
    },
    "tags": []
   },
   "outputs": [],
   "source": [
    "ideal_ccp_alpha = alpha_results[(alpha_results['alpha']>0.014) & (alpha_results['alpha']<0.015)]['alpha']"
   ]
  },
  {
   "cell_type": "code",
   "execution_count": 51,
   "id": "243e17c3",
   "metadata": {
    "execution": {
     "iopub.execute_input": "2023-07-17T17:38:53.687237Z",
     "iopub.status.busy": "2023-07-17T17:38:53.686775Z",
     "iopub.status.idle": "2023-07-17T17:38:53.694537Z",
     "shell.execute_reply": "2023-07-17T17:38:53.693682Z"
    },
    "papermill": {
     "duration": 0.043648,
     "end_time": "2023-07-17T17:38:53.696693",
     "exception": false,
     "start_time": "2023-07-17T17:38:53.653045",
     "status": "completed"
    },
    "tags": []
   },
   "outputs": [
    {
     "data": {
      "text/plain": [
       "20    0.014225\n",
       "Name: alpha, dtype: float64"
      ]
     },
     "execution_count": 51,
     "metadata": {},
     "output_type": "execute_result"
    }
   ],
   "source": [
    "ideal_ccp_alpha"
   ]
  },
  {
   "cell_type": "code",
   "execution_count": 52,
   "id": "74c01dbd",
   "metadata": {
    "execution": {
     "iopub.execute_input": "2023-07-17T17:38:53.764492Z",
     "iopub.status.busy": "2023-07-17T17:38:53.763789Z",
     "iopub.status.idle": "2023-07-17T17:38:53.769936Z",
     "shell.execute_reply": "2023-07-17T17:38:53.768847Z"
    },
    "papermill": {
     "duration": 0.043126,
     "end_time": "2023-07-17T17:38:53.772424",
     "exception": false,
     "start_time": "2023-07-17T17:38:53.729298",
     "status": "completed"
    },
    "tags": []
   },
   "outputs": [
    {
     "data": {
      "text/plain": [
       "0.014224751066856332"
      ]
     },
     "execution_count": 52,
     "metadata": {},
     "output_type": "execute_result"
    }
   ],
   "source": [
    "ideal_ccp_alpha=float(ideal_ccp_alpha)\n",
    "ideal_ccp_alpha"
   ]
  },
  {
   "cell_type": "markdown",
   "id": "bb1af869",
   "metadata": {
    "papermill": {
     "duration": 0.033271,
     "end_time": "2023-07-17T17:38:53.839035",
     "exception": false,
     "start_time": "2023-07-17T17:38:53.805764",
     "status": "completed"
    },
    "tags": []
   },
   "source": [
    "# Evaluation"
   ]
  },
  {
   "cell_type": "code",
   "execution_count": 53,
   "id": "efbafc33",
   "metadata": {
    "execution": {
     "iopub.execute_input": "2023-07-17T17:38:53.907044Z",
     "iopub.status.busy": "2023-07-17T17:38:53.906645Z",
     "iopub.status.idle": "2023-07-17T17:38:53.918142Z",
     "shell.execute_reply": "2023-07-17T17:38:53.916821Z"
    },
    "papermill": {
     "duration": 0.047877,
     "end_time": "2023-07-17T17:38:53.920680",
     "exception": false,
     "start_time": "2023-07-17T17:38:53.872803",
     "status": "completed"
    },
    "tags": []
   },
   "outputs": [],
   "source": [
    "#using optimal value of alpha\n",
    "clf_dt_pruned = DecisionTreeClassifier(random_state=42,ccp_alpha=ideal_ccp_alpha)\n",
    "clf_dt_pruned=clf_dt_pruned.fit(x_train , y_train)"
   ]
  },
  {
   "cell_type": "code",
   "execution_count": 54,
   "id": "28837b65",
   "metadata": {
    "execution": {
     "iopub.execute_input": "2023-07-17T17:38:53.988581Z",
     "iopub.status.busy": "2023-07-17T17:38:53.987796Z",
     "iopub.status.idle": "2023-07-17T17:38:54.256516Z",
     "shell.execute_reply": "2023-07-17T17:38:54.255256Z"
    },
    "papermill": {
     "duration": 0.305189,
     "end_time": "2023-07-17T17:38:54.258951",
     "exception": false,
     "start_time": "2023-07-17T17:38:53.953762",
     "status": "completed"
    },
    "tags": []
   },
   "outputs": [
    {
     "data": {
      "image/png": "[encoded data removed]",
      "text/plain": [
       "<Figure size 800x600 with 2 Axes>"
      ]
     },
     "metadata": {},
     "output_type": "display_data"
    }
   ],
   "source": [
    "cm = confusion_matrix(y_test, clf_dt_pruned.predict(x_test))\n",
    "\n",
    "# Define the display labels\n",
    "display_labels = [\"Does not have HD\", \"Has HD\"]\n",
    "\n",
    "# Create the ConfusionMatrixDisplay object\n",
    "disp = ConfusionMatrixDisplay(confusion_matrix=cm, display_labels=display_labels)\n",
    "fig, ax = plt.subplots(figsize=(8, 6))\n",
    "disp.plot(ax=ax)\n",
    "\n",
    "# Add a title and axis labels\n",
    "ax.set_title(\"Confusion Matrix\")\n",
    "ax.set_xlabel(\"Predicted label\")\n",
    "ax.set_ylabel(\"True label\")\n",
    "\n",
    "# Show the plot\n",
    "plt.show()"
   ]
  },
  {
   "cell_type": "code",
   "execution_count": 55,
   "id": "d3ec9b02",
   "metadata": {
    "execution": {
     "iopub.execute_input": "2023-07-17T17:38:54.327250Z",
     "iopub.status.busy": "2023-07-17T17:38:54.326854Z",
     "iopub.status.idle": "2023-07-17T17:38:55.021848Z",
     "shell.execute_reply": "2023-07-17T17:38:55.020422Z"
    },
    "papermill": {
     "duration": 0.732391,
     "end_time": "2023-07-17T17:38:55.024654",
     "exception": false,
     "start_time": "2023-07-17T17:38:54.292263",
     "status": "completed"
    },
    "tags": []
   },
   "outputs": [
    {
     "data": {
      "image/png": "[encoded data removed]",
      "text/plain": [
       "<Figure size 1500x750 with 1 Axes>"
      ]
     },
     "metadata": {},
     "output_type": "display_data"
    }
   ],
   "source": [
    "plt.figure(figsize=(15,7.5))\n",
    "plot_tree(clf_dt_pruned,filled=True,class_names=[\"NO hd\" ,\"Has HD\"])\n",
    "plt.show()"
   ]
  },
  {
   "cell_type": "code",
   "execution_count": null,
   "id": "b583afa2",
   "metadata": {
    "papermill": {
     "duration": 0.039806,
     "end_time": "2023-07-17T17:38:55.103275",
     "exception": false,
     "start_time": "2023-07-17T17:38:55.063469",
     "status": "completed"
    },
    "tags": []
   },
   "outputs": [],
   "source": []
  }
 ],
 "metadata": {
  "kernelspec": {
   "display_name": "Python 3",
   "language": "python",
   "name": "python3"
  },
  "language_info": {
   "codemirror_mode": {
    "name": "ipython",
    "version": 3
   },
   "file_extension": ".py",
   "mimetype": "text/x-python",
   "name": "python",
   "nbconvert_exporter": "python",
   "pygments_lexer": "ipython3",
   "version": "3.10.12"
  },
  "papermill": {
   "default_parameters": {},
   "duration": 26.936178,
   "end_time": "2023-07-17T17:38:56.164110",
   "environment_variables": {},
   "exception": null,
   "input_path": "__notebook__.ipynb",
   "output_path": "__notebook__.ipynb",
   "parameters": {},
   "start_time": "2023-07-17T17:38:29.227932",
   "version": "2.4.0"
  }
 },
 "nbformat": 4,
 "nbformat_minor": 5
}
